{
  "nbformat": 4,
  "nbformat_minor": 0,
  "metadata": {
    "colab": {
      "provenance": [],
      "include_colab_link": true
    },
    "kernelspec": {
      "name": "python3",
      "display_name": "Python 3"
    },
    "language_info": {
      "name": "python"
    }
  },
  "cells": [
    {
      "cell_type": "markdown",
      "metadata": {
        "id": "view-in-github",
        "colab_type": "text"
      },
      "source": [
        "<a href=\"https://colab.research.google.com/github/marcoswell/CEE2/blob/main/13_pandas_parte_3.ipynb\" target=\"_parent\"><img src=\"https://colab.research.google.com/assets/colab-badge.svg\" alt=\"Open In Colab\"/></a>"
      ]
    },
    {
      "cell_type": "markdown",
      "source": [
        "# Pandas - Parte 3"
      ],
      "metadata": {
        "id": "oZa_-NAWDz81"
      }
    },
    {
      "cell_type": "markdown",
      "source": [
        "## Séries temporais"
      ],
      "metadata": {
        "id": "i-sVOmOXUTDq"
      }
    },
    {
      "cell_type": "markdown",
      "source": [
        "*Pandas* é uma das principais bibliotecas utilizadas para manipulação de séries temporais por possuir diversas funcionalidades úteis para esse tipo de dados.\n",
        "\n",
        "Em *Pandas* uma série temporal é representada por um objeto do tipo `Series` ou `DataFrame` indexadas por um tipo de objeto especifico para trabalhar com datas, o `datetime`."
      ],
      "metadata": {
        "id": "3eccDpWHrkUp"
      }
    },
    {
      "cell_type": "markdown",
      "source": [
        "  **Objetos `datetime` no Python**\n",
        "\n",
        "  A biblioteca `datetime` do Python é utilizado para manipular datas e horários. Ela fornece várias classes úteis para criar, modificar, comparar e realizar cálculos com datas e tempos.\n",
        "\n",
        "  Principais Classes do Módulo `datetime`:\n",
        "\n",
        "  * `datetime.date`: Representa uma data (ano, mês e dia).\n",
        "  * `datetime.time`: Representa um horário (hora, minuto, segundo e microssegundo).\n",
        "  * `datetime.datetime`: Combina data e horário.\n",
        "  * `datetime.timedelta`: Representa diferenças entre datas ou tempos.\n",
        "  * `datetime.tzinfo` e `datetime.timezone`: Representam informações de fuso horário"
      ],
      "metadata": {
        "id": "gAMLO4OBjJEB"
      }
    },
    {
      "cell_type": "code",
      "source": [
        "## Exemplos datetime\n",
        "\n",
        "import datetime\n",
        "\n",
        "# Objeto date:\n",
        "  ## Criando uma data\n",
        "data = datetime.date(2024, 11, 29)\n",
        "print(type(data))\n",
        "print(\"\\nData Criada:\", data)\n",
        "\n",
        "  ## Acessando componentes\n",
        "print(\"Ano:\", data.year)\n",
        "print(\"Mês:\", data.month)\n",
        "print(\"Dia:\", data.day)\n",
        "\n",
        "# Objeto time:\n",
        "  ## Criando um horário\n",
        "horario = datetime.time(14, 30, 45)\n",
        "print(\"\\n\\n\", type(horario))\n",
        "print(\"\\nHorário Criado:\", horario)\n",
        "\n",
        "  ## Acessando componentes\n",
        "print(\"Hora:\", horario.hour)\n",
        "print(\"Minuto:\", horario.minute)\n",
        "print(\"Segundo:\", horario.second)\n",
        "\n",
        "# Objeto datetime:\n",
        "  ## Criando um objeto datetime\n",
        "data_hora = datetime.datetime(2024, 11, 29, 14, 30, 45)\n",
        "print(\"\\n\\n\", type(data_hora))\n",
        "print(\"\\nData e Hora Criadas:\", data_hora)\n",
        "\n",
        "  ## Acessando componentes\n",
        "print(\"Ano:\", data_hora.year)\n",
        "print(\"Hora:\", data_hora.hour)"
      ],
      "metadata": {
        "id": "tTQeC829pXRQ",
        "colab": {
          "base_uri": "https://localhost:8080/"
        },
        "outputId": "94150dce-0555-48e5-9afb-bc00167a2c5b"
      },
      "execution_count": null,
      "outputs": [
        {
          "output_type": "stream",
          "name": "stdout",
          "text": [
            "<class 'datetime.date'>\n",
            "\n",
            "Data Criada: 2024-11-29\n",
            "Ano: 2024\n",
            "Mês: 11\n",
            "Dia: 29\n",
            "\n",
            "\n",
            " <class 'datetime.time'>\n",
            "\n",
            "Horário Criado: 14:30:45\n",
            "Hora: 14\n",
            "Minuto: 30\n",
            "Segundo: 45\n",
            "\n",
            "\n",
            " <class 'datetime.datetime'>\n",
            "\n",
            "Data e Hora Criadas: 2024-11-29 14:30:45\n",
            "Ano: 2024\n",
            "Hora: 14\n"
          ]
        }
      ]
    },
    {
      "cell_type": "code",
      "source": [
        "# Convertendo string para date, time ou datetime\n",
        "\n",
        "# Principais códigos de formatação:\n",
        "# %Y: Ano com quatro dígitos.\n",
        "# %m: Mês (01-12).\n",
        "# %d: Dia do mês (01-31).\n",
        "# %H: Hora (00-23).\n",
        "# %M: Minuto (00-59).\n",
        "# %S: Segundo (00-59).\n",
        "\n",
        "## Exemplo 1\n",
        "data_string = \"29/11/2024\"\n",
        "\n",
        "data_convertida = datetime.datetime.strptime(data_string, \"%d/%m/%Y\")\n",
        "print(\"String Convertida para datetime:\", data_convertida)\n",
        "print(\"String Convertida para date:\", data_convertida.date())\n",
        "\n",
        "\n",
        "## Exemplo 2\n",
        "data_string = \"29/11/2024 14:30:45\"\n",
        "data_convertida = datetime.datetime.strptime(data_string, \"%d/%m/%Y %H:%M:%S\")\n",
        "print(\"\\n\\nString Convertida para datetime:\", data_convertida)\n",
        "print(\"String Convertida para date:\", data_convertida.date())\n",
        "print(\"String Convertida para time:\", data_convertida.time())"
      ],
      "metadata": {
        "colab": {
          "base_uri": "https://localhost:8080/"
        },
        "id": "R664gs_LjnYv",
        "outputId": "e04ca9fd-542a-4543-f18c-0b217f8d800c"
      },
      "execution_count": null,
      "outputs": [
        {
          "output_type": "stream",
          "name": "stdout",
          "text": [
            "String Convertida para datetime: 2024-11-29 00:00:00\n",
            "String Convertida para date: 2024-11-29\n",
            "\n",
            "\n",
            "String Convertida para datetime: 2024-11-29 14:30:45\n",
            "String Convertida para date: 2024-11-29\n",
            "String Convertida para time: 14:30:45\n"
          ]
        }
      ]
    },
    {
      "cell_type": "markdown",
      "source": [
        "**1. Criando Séries Temporais**\n",
        "\n",
        "Podemos criar séries temporais usando o `pd.date_range()` e trabalhar diretamente com objetos `datetime`."
      ],
      "metadata": {
        "id": "NfhilXi8shY-"
      }
    },
    {
      "cell_type": "code",
      "source": [
        "import pandas as pd\n",
        "import numpy as np\n",
        "\n",
        "\n",
        "####### serie diaria ###########################################################\n",
        "\n",
        "# Gerando uma sequência de dias\n",
        "dias = pd.date_range(start=\"2023-01-02\", end=\"2023-01-20\", freq=\"D\")\n",
        "print(\"Sequência de dias:\\n\", dias)\n",
        "\n",
        "# Criando uma série temporal diária\n",
        "serie_diaria = pd.Series(np.random.randint(1, 100, len(dias)), index=dias)\n",
        "print(\"\\nSérie diaria:\\n\", serie_diaria)\n",
        "\n",
        "################################################################################\n",
        "\n",
        "####### serie semanal ##########################################################\n",
        "\n",
        "# Gerando uma sequência de semanas\n",
        "semanas = pd.date_range(\"2023-01-01\", \"2023-03-01\", freq=\"W\")\n",
        "\n",
        "# Criando uma série temporal semanal\n",
        "serie_semanal = pd.Series(np.random.randint(1, 100, len(semanas)), index=semanas)\n",
        "print(\"\\nSérie semanal:\\n\", serie_semanal)\n",
        "\n",
        "################################################################################\n",
        "\n",
        "####### serie horária ##########################################################\n",
        "\n",
        "# Frequência por horas\n",
        "horas = pd.date_range(\"2023-01-01\", \"2023-01-02\", freq=\"h\")\n",
        "\n",
        "# Criando uma série temporal horaria\n",
        "serie_horaria = pd.Series(np.random.randint(1, 100, len(horas)), index=horas)\n",
        "print(\"\\nSérie horaria:\\n\", serie_horaria)\n",
        "\n",
        "################################################################################\n"
      ],
      "metadata": {
        "id": "RIaT-auWuRvq",
        "colab": {
          "base_uri": "https://localhost:8080/"
        },
        "outputId": "a707f91c-0e9c-4a6d-b2cf-dd4d96c4037a"
      },
      "execution_count": null,
      "outputs": [
        {
          "output_type": "stream",
          "name": "stdout",
          "text": [
            "Sequência de dias:\n",
            " DatetimeIndex(['2023-01-02', '2023-01-03', '2023-01-04', '2023-01-05',\n",
            "               '2023-01-06', '2023-01-07', '2023-01-08', '2023-01-09',\n",
            "               '2023-01-10', '2023-01-11', '2023-01-12', '2023-01-13',\n",
            "               '2023-01-14', '2023-01-15', '2023-01-16', '2023-01-17',\n",
            "               '2023-01-18', '2023-01-19', '2023-01-20'],\n",
            "              dtype='datetime64[ns]', freq='D')\n",
            "\n",
            "Série diaria:\n",
            " 2023-01-02    23\n",
            "2023-01-03    19\n",
            "2023-01-04    65\n",
            "2023-01-05     7\n",
            "2023-01-06    68\n",
            "2023-01-07    79\n",
            "2023-01-08    60\n",
            "2023-01-09    12\n",
            "2023-01-10    92\n",
            "2023-01-11    32\n",
            "2023-01-12    58\n",
            "2023-01-13    56\n",
            "2023-01-14    24\n",
            "2023-01-15    67\n",
            "2023-01-16     5\n",
            "2023-01-17    73\n",
            "2023-01-18    88\n",
            "2023-01-19    62\n",
            "2023-01-20    72\n",
            "Freq: D, dtype: int64\n",
            "\n",
            "Série semanal:\n",
            " 2023-01-01    49\n",
            "2023-01-08     4\n",
            "2023-01-15     8\n",
            "2023-01-22    46\n",
            "2023-01-29    15\n",
            "2023-02-05    74\n",
            "2023-02-12    65\n",
            "2023-02-19    35\n",
            "2023-02-26    81\n",
            "Freq: W-SUN, dtype: int64\n",
            "\n",
            "Série horaria:\n",
            " 2023-01-01 00:00:00    66\n",
            "2023-01-01 01:00:00    21\n",
            "2023-01-01 02:00:00     6\n",
            "2023-01-01 03:00:00    62\n",
            "2023-01-01 04:00:00    26\n",
            "2023-01-01 05:00:00    49\n",
            "2023-01-01 06:00:00    39\n",
            "2023-01-01 07:00:00    57\n",
            "2023-01-01 08:00:00    35\n",
            "2023-01-01 09:00:00    96\n",
            "2023-01-01 10:00:00    42\n",
            "2023-01-01 11:00:00     8\n",
            "2023-01-01 12:00:00    65\n",
            "2023-01-01 13:00:00    19\n",
            "2023-01-01 14:00:00    56\n",
            "2023-01-01 15:00:00    64\n",
            "2023-01-01 16:00:00    63\n",
            "2023-01-01 17:00:00    36\n",
            "2023-01-01 18:00:00    58\n",
            "2023-01-01 19:00:00     8\n",
            "2023-01-01 20:00:00    81\n",
            "2023-01-01 21:00:00    87\n",
            "2023-01-01 22:00:00    91\n",
            "2023-01-01 23:00:00    27\n",
            "2023-01-02 00:00:00     4\n",
            "Freq: h, dtype: int64\n"
          ]
        }
      ]
    },
    {
      "cell_type": "markdown",
      "source": [
        "**2. Manipulando Datas como Índices**\n",
        "\n",
        "As colunas de datas ou índices permitem acessar, filtrar e realizar operações."
      ],
      "metadata": {
        "id": "nZ7otU6ks8H3"
      }
    },
    {
      "cell_type": "code",
      "source": [
        "# Filtrando dados específicos\n",
        "print(\"Valores de 2023-01-03 a 2023-01-05:\\n\", serie_diaria[\"2023-01-03\":\"2023-01-05\"])\n",
        "\n",
        "# Selecionando com base em condições\n",
        "print(\"\\nValores maiores que 50:\\n\", serie_diaria[serie_diaria > 50])\n"
      ],
      "metadata": {
        "id": "Ob8Aut9ttC-q",
        "colab": {
          "base_uri": "https://localhost:8080/"
        },
        "outputId": "e89f240f-ad14-41dd-fc7f-85cd086fc0f5"
      },
      "execution_count": null,
      "outputs": [
        {
          "output_type": "stream",
          "name": "stdout",
          "text": [
            "Valores de 2023-01-03 a 2023-01-05:\n",
            " 2023-01-03    19\n",
            "2023-01-04    65\n",
            "2023-01-05     7\n",
            "Freq: D, dtype: int64\n",
            "\n",
            "Valores maiores que 50:\n",
            " 2023-01-04    65\n",
            "2023-01-06    68\n",
            "2023-01-07    79\n",
            "2023-01-08    60\n",
            "2023-01-10    92\n",
            "2023-01-12    58\n",
            "2023-01-13    56\n",
            "2023-01-15    67\n",
            "2023-01-17    73\n",
            "2023-01-18    88\n",
            "2023-01-19    62\n",
            "2023-01-20    72\n",
            "dtype: int64\n"
          ]
        }
      ]
    },
    {
      "cell_type": "markdown",
      "source": [
        "**4. Reamostragem e Alteração de Frequência**\n",
        "\n",
        "A reamostragem ajusta a frequência temporal dos dados (e.g., diário para mensal)."
      ],
      "metadata": {
        "id": "vCyRY6wUtI-0"
      }
    },
    {
      "cell_type": "code",
      "source": [
        "# Seria diaria\n",
        "print(\"serie diaria:\\n\", serie_diaria )\n",
        "\n",
        "# Reamostragem para frequência semanal\n",
        "reamostrado = serie_diaria.resample(\"W\")\n",
        "\n",
        "## media dos valores\n",
        "print(\"\\nSerie Semanal (media):\\n\", reamostrado.mean())\n",
        "\n",
        "## soma dos valores\n",
        "print(\"\\nSerie Semanal (soma):\\n\", reamostrado.sum())\n",
        "\n",
        "## maximo dos valores\n",
        "print(\"\\nSerie Semanal (max):\\n\", reamostrado.max())"
      ],
      "metadata": {
        "id": "T_-urGdGwTU1",
        "colab": {
          "base_uri": "https://localhost:8080/"
        },
        "outputId": "c17871e0-0412-4800-cd67-be5b41c1498f"
      },
      "execution_count": null,
      "outputs": [
        {
          "output_type": "stream",
          "name": "stdout",
          "text": [
            "serie diaria:\n",
            " 2023-01-02    23\n",
            "2023-01-03    19\n",
            "2023-01-04    65\n",
            "2023-01-05     7\n",
            "2023-01-06    68\n",
            "2023-01-07    79\n",
            "2023-01-08    60\n",
            "2023-01-09    12\n",
            "2023-01-10    92\n",
            "2023-01-11    32\n",
            "2023-01-12    58\n",
            "2023-01-13    56\n",
            "2023-01-14    24\n",
            "2023-01-15    67\n",
            "2023-01-16     5\n",
            "2023-01-17    73\n",
            "2023-01-18    88\n",
            "2023-01-19    62\n",
            "2023-01-20    72\n",
            "Freq: D, dtype: int64\n",
            "\n",
            "Serie Semanal (media):\n",
            " 2023-01-08    45.857143\n",
            "2023-01-15    48.714286\n",
            "2023-01-22    60.000000\n",
            "Freq: W-SUN, dtype: float64\n",
            "\n",
            "Serie Semanal (soma):\n",
            " 2023-01-08    321\n",
            "2023-01-15    341\n",
            "2023-01-22    300\n",
            "Freq: W-SUN, dtype: int64\n",
            "\n",
            "Serie Semanal (max):\n",
            " 2023-01-08    79\n",
            "2023-01-15    92\n",
            "2023-01-22    88\n",
            "Freq: W-SUN, dtype: int64\n"
          ]
        }
      ]
    },
    {
      "cell_type": "markdown",
      "source": [
        "**5. Operações de Deslocamento**\n",
        "\n",
        "O deslocamento temporal é útil em diversas situações. Por exemplo, a construção de modelo de regressão pode utilizar uma variável defasada (Ex: Taxa_desemprego ~ Selic_defasada)."
      ],
      "metadata": {
        "id": "izvVdLOp6MTB"
      }
    },
    {
      "cell_type": "code",
      "source": [
        "serie = serie_diaria[\"2023-01-02\":\"2023-01-08\"]\n",
        "print(\"serie diaria:\\n\", serie)\n",
        "\n",
        "# Deslocando os valores para frente\n",
        "deslocado1 = serie.shift(1)\n",
        "print(\"\\nSérie Deslocada para Frente:\\n\", deslocado1)\n",
        "\n",
        "# Deslocando os valores para trás\n",
        "deslocado2 = serie.shift(-1)\n",
        "print(\"\\nSérie Deslocada para trás:\\n\", deslocado2)\n",
        "\n",
        "# Calculando diferenças\n",
        "diferencas = serie.diff()\n",
        "print(\"\\nDiferenças Entre Valores Consecutivos:\\n\", diferencas)"
      ],
      "metadata": {
        "id": "iXt3_36-6Z-j",
        "colab": {
          "base_uri": "https://localhost:8080/"
        },
        "outputId": "9fa50c1d-d96f-4bcf-f0af-357460f5b5f0"
      },
      "execution_count": null,
      "outputs": [
        {
          "output_type": "stream",
          "name": "stdout",
          "text": [
            "serie diaria:\n",
            " 2023-01-02    23\n",
            "2023-01-03    19\n",
            "2023-01-04    65\n",
            "2023-01-05     7\n",
            "2023-01-06    68\n",
            "2023-01-07    79\n",
            "2023-01-08    60\n",
            "Freq: D, dtype: int64\n",
            "\n",
            "Série Deslocada para Frente:\n",
            " 2023-01-02     NaN\n",
            "2023-01-03    23.0\n",
            "2023-01-04    19.0\n",
            "2023-01-05    65.0\n",
            "2023-01-06     7.0\n",
            "2023-01-07    68.0\n",
            "2023-01-08    79.0\n",
            "Freq: D, dtype: float64\n",
            "\n",
            "Série Deslocada para trás:\n",
            " 2023-01-02    19.0\n",
            "2023-01-03    65.0\n",
            "2023-01-04     7.0\n",
            "2023-01-05    68.0\n",
            "2023-01-06    79.0\n",
            "2023-01-07    60.0\n",
            "2023-01-08     NaN\n",
            "Freq: D, dtype: float64\n",
            "\n",
            "Diferenças Entre Valores Consecutivos:\n",
            " 2023-01-02     NaN\n",
            "2023-01-03    -4.0\n",
            "2023-01-04    46.0\n",
            "2023-01-05   -58.0\n",
            "2023-01-06    61.0\n",
            "2023-01-07    11.0\n",
            "2023-01-08   -19.0\n",
            "Freq: D, dtype: float64\n"
          ]
        }
      ]
    },
    {
      "cell_type": "markdown",
      "source": [
        "**6. Trabalhando com Timezones**\n",
        "\n",
        "O Pandas suporta fuso horário com `tz_localize` e `tz_convert`."
      ],
      "metadata": {
        "id": "DnhfpugbbPZA"
      }
    },
    {
      "cell_type": "code",
      "source": [
        "import numpy as np\n",
        "import pandas as pd\n",
        "\n",
        "# Criando uma série temporal horária (UTC)\n",
        "horas_utc = pd.date_range(\"2023-01-01 07:00\", \"2023-01-01 12:00\", freq=\"h\", tz=\"UTC\")\n",
        "serie_horaria_utc = pd.Series(np.random.randint(1, 100, len(horas_utc)), index=horas_utc)\n",
        "\n",
        "print(\"Série horária no timezone UTC:\")\n",
        "print(serie_horaria_utc)\n",
        "\n",
        "# Convertendo para o timezone América/São_Paulo\n",
        "serie_horaria_sao_paulo = serie_horaria_utc.tz_convert(\"America/Sao_Paulo\")\n",
        "print(\"\\nSérie horária convertida para América/São_Paulo:\")\n",
        "print(serie_horaria_sao_paulo)\n",
        "\n",
        "# Série sem fuso horário\n",
        "horas_sem_tz = pd.date_range(\"2023-01-01 07:00\", \"2023-01-01 12:00\", freq=\"h\")\n",
        "serie_sem_tz = pd.Series(np.random.randint(1, 100, len(horas_sem_tz)), index=horas_sem_tz)\n",
        "\n",
        "# Adicionando timezone à série sem fuso horário\n",
        "serie_com_tz = serie_sem_tz.tz_localize(\"America/New_York\")\n",
        "print(\"\\nSérie sem timezone adicionada ao timezone América/New_York:\")\n",
        "print(serie_com_tz)\n"
      ],
      "metadata": {
        "id": "czoZrRkivDKR",
        "colab": {
          "base_uri": "https://localhost:8080/"
        },
        "outputId": "5d274b9e-7d73-45c6-b7f5-cb4334fba48d"
      },
      "execution_count": null,
      "outputs": [
        {
          "output_type": "stream",
          "name": "stdout",
          "text": [
            "Série horária no timezone UTC:\n",
            "2023-01-01 07:00:00+00:00    45\n",
            "2023-01-01 08:00:00+00:00    62\n",
            "2023-01-01 09:00:00+00:00     1\n",
            "2023-01-01 10:00:00+00:00     2\n",
            "2023-01-01 11:00:00+00:00    78\n",
            "2023-01-01 12:00:00+00:00    32\n",
            "Freq: h, dtype: int64\n",
            "\n",
            "Série horária convertida para América/São_Paulo:\n",
            "2023-01-01 04:00:00-03:00    45\n",
            "2023-01-01 05:00:00-03:00    62\n",
            "2023-01-01 06:00:00-03:00     1\n",
            "2023-01-01 07:00:00-03:00     2\n",
            "2023-01-01 08:00:00-03:00    78\n",
            "2023-01-01 09:00:00-03:00    32\n",
            "Freq: h, dtype: int64\n",
            "\n",
            "Série sem timezone adicionada ao timezone América/New_York:\n",
            "2023-01-01 07:00:00-05:00    91\n",
            "2023-01-01 08:00:00-05:00    49\n",
            "2023-01-01 09:00:00-05:00    51\n",
            "2023-01-01 10:00:00-05:00    87\n",
            "2023-01-01 11:00:00-05:00    95\n",
            "2023-01-01 12:00:00-05:00    34\n",
            "dtype: int64\n"
          ]
        }
      ]
    },
    {
      "cell_type": "markdown",
      "source": [
        "Os fusos horários disponíveis podem ser acessados em [time-zones](https://en.wikipedia.org/wiki/List_of_tz_database_time_zones)."
      ],
      "metadata": {
        "id": "YaNiOCzj4yyy"
      }
    },
    {
      "cell_type": "markdown",
      "source": [
        "**7. Gráfico de séries temporais**\n",
        "\n",
        "No Pandas, é possível criar gráficos de séries temporais de forma simples utilizando o método `.plot()` integrado. Ele é ideal para representar visualmente dados temporais, como tendências ao longo do tempo. Para isso, você pode usar diretamente o DataFrame ou a Series, desde que tenham um índice temporal.\n",
        "\n",
        "> Quando você usa o método .plot() em um objeto do pandas (por exemplo, um DataFrame ou Series), ele retorna um objeto `matplotlib.axes._axes.Axes`, que faz parte da biblioteca matplotlib. Esse objeto representa o eixo do gráfico e permite manipulações adicionais, como adicionar título, rótulos, etc.\n",
        "\n",
        "> Em Colab (ou Jupyter), quando você chama `plot()` o gráfico é exibido automaticamente.\n"
      ],
      "metadata": {
        "id": "Kw7d4rBdfqOK"
      }
    },
    {
      "cell_type": "code",
      "source": [
        "import pandas as pd\n",
        "import numpy as np\n",
        "\n",
        "# Gerar uma série temporal horaria\n",
        "datas = pd.date_range(\"2023-01-01\", \"2023-01-5\", freq=\"h\")\n",
        "valores = np.random.randint(50, 100, len(datas))\n",
        "serie_temporal = pd.Series(valores, index=datas)\n",
        "\n",
        "# Criar o gráfico\n",
        "fig = serie_temporal.plot(title=\"Série Temporal\", xlabel=\"Data\", ylabel=\"Valor\",\n",
        "                    figsize=(6, 3))"
      ],
      "metadata": {
        "id": "M9PgA2dZgAB3",
        "colab": {
          "base_uri": "https://localhost:8080/",
          "height": 366
        },
        "outputId": "501e94ad-df25-4b04-fbc6-fcc46d59ca0a"
      },
      "execution_count": null,
      "outputs": [
        {
          "output_type": "display_data",
          "data": {
            "text/plain": [
              "<Figure size 600x300 with 1 Axes>"
            ],
            "image/png": "[encoded data removed]"
          },
          "metadata": {}
        }
      ]
    },
    {
      "cell_type": "code",
      "source": [
        "# Gera um DataFrame com múltiplas séries temporais\n",
        "df = pd.DataFrame({\n",
        "    \"Produto A\": np.random.randint(50, 100, len(datas)),\n",
        "    \"Produto B\": np.random.randint(60, 120, len(datas)),\n",
        "    \"Produto C\": np.random.randint(30, 90, len(datas)),\n",
        "}, index=datas)\n",
        "\n",
        "# Gera o gráfico\n",
        "fig = df.plot(title=\"Comparação de Produtos\", xlabel=\"Data\", ylabel=\"Vendas\",\n",
        "        figsize=(7, 4))"
      ],
      "metadata": {
        "id": "zfo6aOKChHXb",
        "colab": {
          "base_uri": "https://localhost:8080/",
          "height": 443
        },
        "outputId": "09c528b3-0906-49e6-8182-2ba49bef5208"
      },
      "execution_count": null,
      "outputs": [
        {
          "output_type": "display_data",
          "data": {
            "text/plain": [
              "<Figure size 700x400 with 1 Axes>"
            ],
            "image/png": "[encoded data removed]"
          },
          "metadata": {}
        }
      ]
    },
    {
      "cell_type": "markdown",
      "source": [
        "A biblioteca `matplotlib` pode ser utilizada para personalizar os gráficos. Será visto a frente."
      ],
      "metadata": {
        "id": "33uuakLLiaGS"
      }
    },
    {
      "cell_type": "markdown",
      "source": [
        "### Exercício 1\n",
        "\n",
        "Considere o seguinte código:\n",
        "\n",
        "```python\n",
        "import pandas as pd\n",
        "import numpy as np\n",
        "\n",
        "# Série temporal diária para janeiro de 2023\n",
        "dias = pd.date_range(start=\"2023-01-01\", end=\"2023-01-31\", freq=\"D\")\n",
        "serie = pd.Series(np.random.randint(10, 100, len(dias)), index=dias)\n",
        "print(\"Série Temporal:\\n\", serie)\n",
        "```\n",
        "\n",
        "Então para o objeto `serie`:\n",
        "\n",
        "1. Construa uma série semanal tomando os valores máximos de cada semana.\n",
        "\n",
        "2. Construa uma série semanal tomando os valores médios de cada semana.\n",
        "\n",
        "3. Inclua o fuso horário \"America/Sao_Paulo\".\n",
        "\n",
        "4. Apresente o gráfico das duas séries temporais."
      ],
      "metadata": {
        "id": "UZiW85H9jR1N"
      }
    },
    {
      "cell_type": "code",
      "source": [
        "import pandas as pd\n",
        "import numpy as np\n",
        "\n",
        "# Série temporal diária para janeiro de 2023\n",
        "dias = pd.date_range(start=\"2023-01-01\", end=\"2023-01-31\", freq=\"D\")\n",
        "serie = pd.Series(np.random.randint(10, 100, len(dias)), index=dias)\n",
        "print(\"Série Temporal:\\n\", serie)"
      ],
      "metadata": {
        "colab": {
          "base_uri": "https://localhost:8080/"
        },
        "id": "CS584y9e8lJD",
        "outputId": "b94f967f-b990-4df8-a561-48f5866f69b8"
      },
      "execution_count": null,
      "outputs": [
        {
          "output_type": "stream",
          "name": "stdout",
          "text": [
            "Série Temporal:\n",
            " 2023-01-01    42\n",
            "2023-01-02    48\n",
            "2023-01-03    46\n",
            "2023-01-04    83\n",
            "2023-01-05    50\n",
            "2023-01-06    73\n",
            "2023-01-07    32\n",
            "2023-01-08    65\n",
            "2023-01-09    24\n",
            "2023-01-10    38\n",
            "2023-01-11    22\n",
            "2023-01-12    33\n",
            "2023-01-13    39\n",
            "2023-01-14    85\n",
            "2023-01-15    67\n",
            "2023-01-16    92\n",
            "2023-01-17    95\n",
            "2023-01-18    25\n",
            "2023-01-19    74\n",
            "2023-01-20    50\n",
            "2023-01-21    36\n",
            "2023-01-22    23\n",
            "2023-01-23    51\n",
            "2023-01-24    24\n",
            "2023-01-25    89\n",
            "2023-01-26    66\n",
            "2023-01-27    72\n",
            "2023-01-28    39\n",
            "2023-01-29    26\n",
            "2023-01-30    45\n",
            "2023-01-31    90\n",
            "Freq: D, dtype: int64\n"
          ]
        }
      ]
    },
    {
      "cell_type": "code",
      "source": [
        "#1 Construa uma série semanal tomando os valores máximos de cada semana.\n",
        "\n",
        "df1 = serie.resample('W').max()\n",
        "print('Máximo de cada semana')\n",
        "print(df1)\n",
        "print('-'*30)\n",
        "\n",
        "# 2 Construa uma série semanal tomando os valores médios de cada semana.\n",
        "\n",
        "df2 = serie.resample('W').mean()\n",
        "print('\\nMédia de cadas semana')\n",
        "print(df2)\n",
        "print('-'*30)\n",
        "\n",
        "# 3 Inclua o fuso horário \"America/Sao_Paulo\".\n",
        "df3 = serie.tz_localize('America/Sao_Paulo')\n",
        "print('\\nIncluindo o horário de São Paulo')\n",
        "print(df3)\n",
        "\n",
        "# 4 Apresente o gráfico das duas séries temporais.\n",
        "\n",
        "df3.plot(title = 'Serie Temporal', xlabel ='Tempo', ylabel = 'Valores');"
      ],
      "metadata": {
        "colab": {
          "base_uri": "https://localhost:8080/",
          "height": 1000
        },
        "id": "dXDVD-1X8nx8",
        "outputId": "6496ae21-0d48-4bb1-cfb4-5bba54e30440"
      },
      "execution_count": null,
      "outputs": [
        {
          "output_type": "stream",
          "name": "stdout",
          "text": [
            "Máximo de cada semana\n",
            "2023-01-01    42\n",
            "2023-01-08    83\n",
            "2023-01-15    85\n",
            "2023-01-22    95\n",
            "2023-01-29    89\n",
            "2023-02-05    90\n",
            "Freq: W-SUN, dtype: int64\n",
            "------------------------------\n",
            "\n",
            "Média de cadas semana\n",
            "2023-01-01    42.000000\n",
            "2023-01-08    56.714286\n",
            "2023-01-15    44.000000\n",
            "2023-01-22    56.428571\n",
            "2023-01-29    52.428571\n",
            "2023-02-05    67.500000\n",
            "Freq: W-SUN, dtype: float64\n",
            "------------------------------\n",
            "\n",
            "Incluindo o horário de São Paulo\n",
            "2023-01-01 00:00:00-03:00    42\n",
            "2023-01-02 00:00:00-03:00    48\n",
            "2023-01-03 00:00:00-03:00    46\n",
            "2023-01-04 00:00:00-03:00    83\n",
            "2023-01-05 00:00:00-03:00    50\n",
            "2023-01-06 00:00:00-03:00    73\n",
            "2023-01-07 00:00:00-03:00    32\n",
            "2023-01-08 00:00:00-03:00    65\n",
            "2023-01-09 00:00:00-03:00    24\n",
            "2023-01-10 00:00:00-03:00    38\n",
            "2023-01-11 00:00:00-03:00    22\n",
            "2023-01-12 00:00:00-03:00    33\n",
            "2023-01-13 00:00:00-03:00    39\n",
            "2023-01-14 00:00:00-03:00    85\n",
            "2023-01-15 00:00:00-03:00    67\n",
            "2023-01-16 00:00:00-03:00    92\n",
            "2023-01-17 00:00:00-03:00    95\n",
            "2023-01-18 00:00:00-03:00    25\n",
            "2023-01-19 00:00:00-03:00    74\n",
            "2023-01-20 00:00:00-03:00    50\n",
            "2023-01-21 00:00:00-03:00    36\n",
            "2023-01-22 00:00:00-03:00    23\n",
            "2023-01-23 00:00:00-03:00    51\n",
            "2023-01-24 00:00:00-03:00    24\n",
            "2023-01-25 00:00:00-03:00    89\n",
            "2023-01-26 00:00:00-03:00    66\n",
            "2023-01-27 00:00:00-03:00    72\n",
            "2023-01-28 00:00:00-03:00    39\n",
            "2023-01-29 00:00:00-03:00    26\n",
            "2023-01-30 00:00:00-03:00    45\n",
            "2023-01-31 00:00:00-03:00    90\n",
            "dtype: int64\n"
          ]
        },
        {
          "output_type": "display_data",
          "data": {
            "text/plain": [
              "<Figure size 640x480 with 1 Axes>"
            ],
            "image/png": "[encoded data removed]"
          },
          "metadata": {}
        }
      ]
    },
    {
      "cell_type": "markdown",
      "source": [
        "## Dados categorizados"
      ],
      "metadata": {
        "id": "cCQ4zMPSUizA"
      }
    },
    {
      "cell_type": "markdown",
      "source": [
        "Os dados categorizados são úteis para representar variáveis que têm um número fixo e limitado de categorias. O *Pandas* oferece suporte para o tipo de dado `category`, permitindo economizar memória e melhorar o desempenho em operações com dados categóricos.\n",
        "\n",
        "> `category` em *Pandas* é o equivalente ao `factor` na linguagem R.\n",
        "\n",
        "Por que usar dados categorizados?\n",
        "\n",
        "* Eficiência de memória: Categorias são armazenadas como índices inteiros internamente, reduzindo o uso de memória.\n",
        "\n",
        "* Desempenho: Operações como comparação e agrupamento são mais rápidas.\n",
        "\n",
        "* **Modelagem**: Modelos de regressão não lidam diretamente com variáveis categóricas. Elas precisam ser convertidas em uma representação numérica, como **one-hot encoding** (cada categoria vira uma coluna binária) ou codificação **ordinal** (são tratadas como números).  \n"
      ],
      "metadata": {
        "id": "lJHqK0SJ5Qug"
      }
    },
    {
      "cell_type": "markdown",
      "source": [
        "**Criando Dados Categorizados**"
      ],
      "metadata": {
        "id": "YRS_yQYzzs4E"
      }
    },
    {
      "cell_type": "code",
      "source": [
        "import pandas as pd\n",
        "import numpy as np\n",
        "\n",
        "## A partir de uma lista\n",
        "categoricas = pd.Series([\"Alto\", \"Médio\", \"Baixo\", \"Médio\"], dtype=\"category\")\n",
        "print(\"Série categórica:\")\n",
        "print(categoricas)  # Aqui o Python não sabe qual é a ordem\n",
        "\n",
        "# Definindo uma ordem explícita (ordinal)\n",
        "categoricas2 = categoricas.cat.set_categories([\"Baixo\", \"Médio\", \"Alto\"],\n",
        "                                             ordered=True)\n",
        "print(\"\\nSérie categórica ordenada:\")\n",
        "print(categoricas2)\n"
      ],
      "metadata": {
        "id": "JvG6W2t_zdyA",
        "colab": {
          "base_uri": "https://localhost:8080/"
        },
        "outputId": "d2465dbc-94ea-4a43-a800-944d36807677"
      },
      "execution_count": null,
      "outputs": [
        {
          "output_type": "stream",
          "name": "stdout",
          "text": [
            "Série categórica:\n",
            "0     Alto\n",
            "1    Médio\n",
            "2    Baixo\n",
            "3    Médio\n",
            "dtype: category\n",
            "Categories (3, object): ['Alto', 'Baixo', 'Médio']\n",
            "\n",
            "Série categórica ordenada:\n",
            "0     Alto\n",
            "1    Médio\n",
            "2    Baixo\n",
            "3    Médio\n",
            "dtype: category\n",
            "Categories (3, object): ['Baixo' < 'Médio' < 'Alto']\n"
          ]
        }
      ]
    },
    {
      "cell_type": "markdown",
      "source": [
        "Segmentando variáveis utilizando `.cut`"
      ],
      "metadata": {
        "id": "Kaaj05mQBnmz"
      }
    },
    {
      "cell_type": "code",
      "source": [
        "df = pd.DataFrame({\n",
        "    \"Nome\": [\"Ana\", \"Bruno\", \"Carlos\", \"Diana\", \"Eduardo\"],\n",
        "    \"Gênero\": [\"Feminino\", \"Masculino\", \"Masculino\", \"Feminino\", \"Masculino\"],\n",
        "    \"Notas\": [9.5, 5.3, 0.1, 6.1, 7.7]\n",
        "})\n",
        "\n",
        "# Aplicando a função .cut para criar a coluna menção\n",
        "cortes = [0.0, 3.0, 5, 7, 9, 10]\n",
        "classes = [\"II\",\"MI\",\"MM\",\"MS\",\"SS\"]\n",
        "df['Menção'] = pd.cut( df['Notas'], bins=cortes, labels=classes )\n",
        "\n",
        "# Transformando Menção em categorica\n",
        "df[\"Menção\"] = df[\"Menção\"].astype(\"category\")\n",
        "\n",
        "# Transformando Menção em categorica ordinal\n",
        "df.Menção = df.Menção.cat.set_categories([\"SR\",\"II\",\"MI\",\"MM\",\"MS\",\"SS\"],\n",
        "                                               ordered = True)\n",
        "print(\"df:\\n\", df)"
      ],
      "metadata": {
        "id": "oeJyFc5YB9Vg",
        "colab": {
          "base_uri": "https://localhost:8080/"
        },
        "outputId": "e3f0836c-cacf-4ed1-9020-ed35de64cb65"
      },
      "execution_count": null,
      "outputs": [
        {
          "output_type": "stream",
          "name": "stdout",
          "text": [
            "df:\n",
            "       Nome     Gênero  Notas Menção\n",
            "0      Ana   Feminino    9.5     SS\n",
            "1    Bruno  Masculino    5.3     MM\n",
            "2   Carlos  Masculino    0.1     II\n",
            "3    Diana   Feminino    6.1     MM\n",
            "4  Eduardo  Masculino    7.7     MS\n"
          ]
        }
      ]
    },
    {
      "cell_type": "markdown",
      "source": [
        "Renomeando as categorias para nomes com mais significado:"
      ],
      "metadata": {
        "id": "efeWjtSs67Vq"
      }
    },
    {
      "cell_type": "code",
      "source": [
        "from typing_extensions import runtime\n",
        "print(\"df:\\n\", df)\n",
        "\n",
        "new_categories = [\"péssimo\", \"muito ruim\", \"ruim\", \"meia boca\", \"aceitável\", \"bom\"]\n",
        "# SR -> péssimo\n",
        "# II -> muito ruim\n",
        "# MI -> ruim\n",
        "# ...\n",
        "\n",
        "df[\"Menção\"] = df[\"Menção\"].cat.rename_categories(new_categories)\n",
        "\n",
        "print(\"\\ndf:\\n\", df)"
      ],
      "metadata": {
        "id": "THG1pXmy7rx4",
        "colab": {
          "base_uri": "https://localhost:8080/"
        },
        "outputId": "6d926a9b-051a-44f7-cf35-9bf0a93f5997"
      },
      "execution_count": null,
      "outputs": [
        {
          "output_type": "stream",
          "name": "stdout",
          "text": [
            "df:\n",
            "       Nome     Gênero  Notas Menção\n",
            "0      Ana   Feminino    9.5     SS\n",
            "1    Bruno  Masculino    5.3     MM\n",
            "2   Carlos  Masculino    0.1     II\n",
            "3    Diana   Feminino    6.1     MM\n",
            "4  Eduardo  Masculino    7.7     MS\n",
            "\n",
            "df:\n",
            "       Nome     Gênero  Notas      Menção\n",
            "0      Ana   Feminino    9.5         bom\n",
            "1    Bruno  Masculino    5.3   meia boca\n",
            "2   Carlos  Masculino    0.1  muito ruim\n",
            "3    Diana   Feminino    6.1   meia boca\n",
            "4  Eduardo  Masculino    7.7   aceitável\n"
          ]
        }
      ]
    },
    {
      "cell_type": "markdown",
      "source": [
        "A  ordenação nas categorias é por classe, não alfabética:"
      ],
      "metadata": {
        "id": "81_7uUtW8e5f"
      }
    },
    {
      "cell_type": "code",
      "source": [
        "df.sort_values(by=\"Menção\")"
      ],
      "metadata": {
        "id": "WxBpRGWq8zPp",
        "colab": {
          "base_uri": "https://localhost:8080/",
          "height": 206
        },
        "outputId": "8c933846-c8d7-43f8-b669-4abfdc7398b8"
      },
      "execution_count": null,
      "outputs": [
        {
          "output_type": "execute_result",
          "data": {
            "text/plain": [
              "      Nome     Gênero  Notas      Menção\n",
              "2   Carlos  Masculino    0.1  muito ruim\n",
              "1    Bruno  Masculino    5.3   meia boca\n",
              "3    Diana   Feminino    6.1   meia boca\n",
              "4  Eduardo  Masculino    7.7   aceitável\n",
              "0      Ana   Feminino    9.5         bom"
            ],
            "text/html": [
              "\n",
              "  <div id=\"df-0c5733d8-cc17-417e-a8bb-4328993687da\" class=\"colab-df-container\">\n",
              "    <div>\n",
              "<style scoped>\n",
              "    .dataframe tbody tr th:only-of-type {\n",
              "        vertical-align: middle;\n",
              "    }\n",
              "\n",
              "    .dataframe tbody tr th {\n",
              "        vertical-align: top;\n",
              "    }\n",
              "\n",
              "    .dataframe thead th {\n",
              "        text-align: right;\n",
              "    }\n",
              "</style>\n",
              "<table border=\"1\" class=\"dataframe\">\n",
              "  <thead>\n",
              "    <tr style=\"text-align: right;\">\n",
              "      <th></th>\n",
              "      <th>Nome</th>\n",
              "      <th>Gênero</th>\n",
              "      <th>Notas</th>\n",
              "      <th>Menção</th>\n",
              "    </tr>\n",
              "  </thead>\n",
              "  <tbody>\n",
              "    <tr>\n",
              "      <th>2</th>\n",
              "      <td>Carlos</td>\n",
              "      <td>Masculino</td>\n",
              "      <td>0.1</td>\n",
              "      <td>muito ruim</td>\n",
              "    </tr>\n",
              "    <tr>\n",
              "      <th>1</th>\n",
              "      <td>Bruno</td>\n",
              "      <td>Masculino</td>\n",
              "      <td>5.3</td>\n",
              "      <td>meia boca</td>\n",
              "    </tr>\n",
              "    <tr>\n",
              "      <th>3</th>\n",
              "      <td>Diana</td>\n",
              "      <td>Feminino</td>\n",
              "      <td>6.1</td>\n",
              "      <td>meia boca</td>\n",
              "    </tr>\n",
              "    <tr>\n",
              "      <th>4</th>\n",
              "      <td>Eduardo</td>\n",
              "      <td>Masculino</td>\n",
              "      <td>7.7</td>\n",
              "      <td>aceitável</td>\n",
              "    </tr>\n",
              "    <tr>\n",
              "      <th>0</th>\n",
              "      <td>Ana</td>\n",
              "      <td>Feminino</td>\n",
              "      <td>9.5</td>\n",
              "      <td>bom</td>\n",
              "    </tr>\n",
              "  </tbody>\n",
              "</table>\n",
              "</div>\n",
              "    <div class=\"colab-df-buttons\">\n",
              "\n",
              "  <div class=\"colab-df-container\">\n",
              "    <button class=\"colab-df-convert\" onclick=\"convertToInteractive('df-0c5733d8-cc17-417e-a8bb-4328993687da')\"\n",
              "            title=\"Convert this dataframe to an interactive table.\"\n",
              "            style=\"display:none;\">\n",
              "\n",
              "  <svg xmlns=\"http://www.w3.org/2000/svg\" height=\"24px\" viewBox=\"0 -960 960 960\">\n",
              "    <path d=\"M120-120v-720h720v720H120Zm60-500h600v-160H180v160Zm220 220h160v-160H400v160Zm0 220h160v-160H400v160ZM180-400h160v-160H180v160Zm440 0h160v-160H620v160ZM180-180h160v-160H180v160Zm440 0h160v-160H620v160Z\"/>\n",
              "  </svg>\n",
              "    </button>\n",
              "\n",
              "  <style>\n",
              "    .colab-df-container {\n",
              "      display:flex;\n",
              "      gap: 12px;\n",
              "    }\n",
              "\n",
              "    .colab-df-convert {\n",
              "      background-color: #E8F0FE;\n",
              "      border: none;\n",
              "      border-radius: 50%;\n",
              "      cursor: pointer;\n",
              "      display: none;\n",
              "      fill: #1967D2;\n",
              "      height: 32px;\n",
              "      padding: 0 0 0 0;\n",
              "      width: 32px;\n",
              "    }\n",
              "\n",
              "    .colab-df-convert:hover {\n",
              "      background-color: #E2EBFA;\n",
              "      box-shadow: 0px 1px 2px rgba(60, 64, 67, 0.3), 0px 1px 3px 1px rgba(60, 64, 67, 0.15);\n",
              "      fill: #174EA6;\n",
              "    }\n",
              "\n",
              "    .colab-df-buttons div {\n",
              "      margin-bottom: 4px;\n",
              "    }\n",
              "\n",
              "    [theme=dark] .colab-df-convert {\n",
              "      background-color: #3B4455;\n",
              "      fill: #D2E3FC;\n",
              "    }\n",
              "\n",
              "    [theme=dark] .colab-df-convert:hover {\n",
              "      background-color: #434B5C;\n",
              "      box-shadow: 0px 1px 3px 1px rgba(0, 0, 0, 0.15);\n",
              "      filter: drop-shadow(0px 1px 2px rgba(0, 0, 0, 0.3));\n",
              "      fill: #FFFFFF;\n",
              "    }\n",
              "  </style>\n",
              "\n",
              "    <script>\n",
              "      const buttonEl =\n",
              "        document.querySelector('#df-0c5733d8-cc17-417e-a8bb-4328993687da button.colab-df-convert');\n",
              "      buttonEl.style.display =\n",
              "        google.colab.kernel.accessAllowed ? 'block' : 'none';\n",
              "\n",
              "      async function convertToInteractive(key) {\n",
              "        const element = document.querySelector('#df-0c5733d8-cc17-417e-a8bb-4328993687da');\n",
              "        const dataTable =\n",
              "          await google.colab.kernel.invokeFunction('convertToInteractive',\n",
              "                                                    [key], {});\n",
              "        if (!dataTable) return;\n",
              "\n",
              "        const docLinkHtml = 'Like what you see? Visit the ' +\n",
              "          '<a target=\"_blank\" href=https://colab.research.google.com/notebooks/data_table.ipynb>data table notebook</a>'\n",
              "          + ' to learn more about interactive tables.';\n",
              "        element.innerHTML = '';\n",
              "        dataTable['output_type'] = 'display_data';\n",
              "        await google.colab.output.renderOutput(dataTable, element);\n",
              "        const docLink = document.createElement('div');\n",
              "        docLink.innerHTML = docLinkHtml;\n",
              "        element.appendChild(docLink);\n",
              "      }\n",
              "    </script>\n",
              "  </div>\n",
              "\n",
              "\n",
              "    <div id=\"df-a78aae02-26c4-4f8e-8943-3f3c251d83f5\">\n",
              "      <button class=\"colab-df-quickchart\" onclick=\"quickchart('df-a78aae02-26c4-4f8e-8943-3f3c251d83f5')\"\n",
              "                title=\"Suggest charts\"\n",
              "                style=\"display:none;\">\n",
              "\n",
              "<svg xmlns=\"http://www.w3.org/2000/svg\" height=\"24px\"viewBox=\"0 0 24 24\"\n",
              "     width=\"24px\">\n",
              "    <g>\n",
              "        <path d=\"M19 3H5c-1.1 0-2 .9-2 2v14c0 1.1.9 2 2 2h14c1.1 0 2-.9 2-2V5c0-1.1-.9-2-2-2zM9 17H7v-7h2v7zm4 0h-2V7h2v10zm4 0h-2v-4h2v4z\"/>\n",
              "    </g>\n",
              "</svg>\n",
              "      </button>\n",
              "\n",
              "<style>\n",
              "  .colab-df-quickchart {\n",
              "      --bg-color: #E8F0FE;\n",
              "      --fill-color: #1967D2;\n",
              "      --hover-bg-color: #E2EBFA;\n",
              "      --hover-fill-color: #174EA6;\n",
              "      --disabled-fill-color: #AAA;\n",
              "      --disabled-bg-color: #DDD;\n",
              "  }\n",
              "\n",
              "  [theme=dark] .colab-df-quickchart {\n",
              "      --bg-color: #3B4455;\n",
              "      --fill-color: #D2E3FC;\n",
              "      --hover-bg-color: #434B5C;\n",
              "      --hover-fill-color: #FFFFFF;\n",
              "      --disabled-bg-color: #3B4455;\n",
              "      --disabled-fill-color: #666;\n",
              "  }\n",
              "\n",
              "  .colab-df-quickchart {\n",
              "    background-color: var(--bg-color);\n",
              "    border: none;\n",
              "    border-radius: 50%;\n",
              "    cursor: pointer;\n",
              "    display: none;\n",
              "    fill: var(--fill-color);\n",
              "    height: 32px;\n",
              "    padding: 0;\n",
              "    width: 32px;\n",
              "  }\n",
              "\n",
              "  .colab-df-quickchart:hover {\n",
              "    background-color: var(--hover-bg-color);\n",
              "    box-shadow: 0 1px 2px rgba(60, 64, 67, 0.3), 0 1px 3px 1px rgba(60, 64, 67, 0.15);\n",
              "    fill: var(--button-hover-fill-color);\n",
              "  }\n",
              "\n",
              "  .colab-df-quickchart-complete:disabled,\n",
              "  .colab-df-quickchart-complete:disabled:hover {\n",
              "    background-color: var(--disabled-bg-color);\n",
              "    fill: var(--disabled-fill-color);\n",
              "    box-shadow: none;\n",
              "  }\n",
              "\n",
              "  .colab-df-spinner {\n",
              "    border: 2px solid var(--fill-color);\n",
              "    border-color: transparent;\n",
              "    border-bottom-color: var(--fill-color);\n",
              "    animation:\n",
              "      spin 1s steps(1) infinite;\n",
              "  }\n",
              "\n",
              "  @keyframes spin {\n",
              "    0% {\n",
              "      border-color: transparent;\n",
              "      border-bottom-color: var(--fill-color);\n",
              "      border-left-color: var(--fill-color);\n",
              "    }\n",
              "    20% {\n",
              "      border-color: transparent;\n",
              "      border-left-color: var(--fill-color);\n",
              "      border-top-color: var(--fill-color);\n",
              "    }\n",
              "    30% {\n",
              "      border-color: transparent;\n",
              "      border-left-color: var(--fill-color);\n",
              "      border-top-color: var(--fill-color);\n",
              "      border-right-color: var(--fill-color);\n",
              "    }\n",
              "    40% {\n",
              "      border-color: transparent;\n",
              "      border-right-color: var(--fill-color);\n",
              "      border-top-color: var(--fill-color);\n",
              "    }\n",
              "    60% {\n",
              "      border-color: transparent;\n",
              "      border-right-color: var(--fill-color);\n",
              "    }\n",
              "    80% {\n",
              "      border-color: transparent;\n",
              "      border-right-color: var(--fill-color);\n",
              "      border-bottom-color: var(--fill-color);\n",
              "    }\n",
              "    90% {\n",
              "      border-color: transparent;\n",
              "      border-bottom-color: var(--fill-color);\n",
              "    }\n",
              "  }\n",
              "</style>\n",
              "\n",
              "      <script>\n",
              "        async function quickchart(key) {\n",
              "          const quickchartButtonEl =\n",
              "            document.querySelector('#' + key + ' button');\n",
              "          quickchartButtonEl.disabled = true;  // To prevent multiple clicks.\n",
              "          quickchartButtonEl.classList.add('colab-df-spinner');\n",
              "          try {\n",
              "            const charts = await google.colab.kernel.invokeFunction(\n",
              "                'suggestCharts', [key], {});\n",
              "          } catch (error) {\n",
              "            console.error('Error during call to suggestCharts:', error);\n",
              "          }\n",
              "          quickchartButtonEl.classList.remove('colab-df-spinner');\n",
              "          quickchartButtonEl.classList.add('colab-df-quickchart-complete');\n",
              "        }\n",
              "        (() => {\n",
              "          let quickchartButtonEl =\n",
              "            document.querySelector('#df-a78aae02-26c4-4f8e-8943-3f3c251d83f5 button');\n",
              "          quickchartButtonEl.style.display =\n",
              "            google.colab.kernel.accessAllowed ? 'block' : 'none';\n",
              "        })();\n",
              "      </script>\n",
              "    </div>\n",
              "\n",
              "    </div>\n",
              "  </div>\n"
            ],
            "application/vnd.google.colaboratory.intrinsic+json": {
              "type": "dataframe",
              "summary": "{\n  \"name\": \"df\",\n  \"rows\": 5,\n  \"fields\": [\n    {\n      \"column\": \"Nome\",\n      \"properties\": {\n        \"dtype\": \"string\",\n        \"num_unique_values\": 5,\n        \"samples\": [\n          \"Bruno\",\n          \"Ana\",\n          \"Diana\"\n        ],\n        \"semantic_type\": \"\",\n        \"description\": \"\"\n      }\n    },\n    {\n      \"column\": \"G\\u00eanero\",\n      \"properties\": {\n        \"dtype\": \"category\",\n        \"num_unique_values\": 2,\n        \"samples\": [\n          \"Feminino\",\n          \"Masculino\"\n        ],\n        \"semantic_type\": \"\",\n        \"description\": \"\"\n      }\n    },\n    {\n      \"column\": \"Notas\",\n      \"properties\": {\n        \"dtype\": \"number\",\n        \"std\": 3.53949148890063,\n        \"min\": 0.1,\n        \"max\": 9.5,\n        \"num_unique_values\": 5,\n        \"samples\": [\n          5.3,\n          9.5\n        ],\n        \"semantic_type\": \"\",\n        \"description\": \"\"\n      }\n    },\n    {\n      \"column\": \"Men\\u00e7\\u00e3o\",\n      \"properties\": {\n        \"dtype\": \"category\",\n        \"num_unique_values\": 4,\n        \"samples\": [\n          \"meia boca\",\n          \"bom\"\n        ],\n        \"semantic_type\": \"\",\n        \"description\": \"\"\n      }\n    }\n  ]\n}"
            }
          },
          "metadata": {},
          "execution_count": 43
        }
      ]
    },
    {
      "cell_type": "markdown",
      "source": [
        "Agrupamento de variáveis categorizadas com `observed=False` também mostram as categorias vazias:"
      ],
      "metadata": {
        "id": "m6feZ8OW8z1v"
      }
    },
    {
      "cell_type": "code",
      "source": [
        "df.groupby(\"Menção\", observed=False).size()"
      ],
      "metadata": {
        "id": "0O6hdHpK9RxH",
        "colab": {
          "base_uri": "https://localhost:8080/",
          "height": 303
        },
        "outputId": "cdcebc34-3c95-408a-876d-9e385a4036b8"
      },
      "execution_count": null,
      "outputs": [
        {
          "output_type": "execute_result",
          "data": {
            "text/plain": [
              "Menção\n",
              "péssimo       0\n",
              "muito ruim    1\n",
              "ruim          0\n",
              "meia boca     2\n",
              "aceitável     1\n",
              "bom           1\n",
              "dtype: int64"
            ],
            "text/html": [
              "<div>\n",
              "<style scoped>\n",
              "    .dataframe tbody tr th:only-of-type {\n",
              "        vertical-align: middle;\n",
              "    }\n",
              "\n",
              "    .dataframe tbody tr th {\n",
              "        vertical-align: top;\n",
              "    }\n",
              "\n",
              "    .dataframe thead th {\n",
              "        text-align: right;\n",
              "    }\n",
              "</style>\n",
              "<table border=\"1\" class=\"dataframe\">\n",
              "  <thead>\n",
              "    <tr style=\"text-align: right;\">\n",
              "      <th></th>\n",
              "      <th>0</th>\n",
              "    </tr>\n",
              "    <tr>\n",
              "      <th>Menção</th>\n",
              "      <th></th>\n",
              "    </tr>\n",
              "  </thead>\n",
              "  <tbody>\n",
              "    <tr>\n",
              "      <th>péssimo</th>\n",
              "      <td>0</td>\n",
              "    </tr>\n",
              "    <tr>\n",
              "      <th>muito ruim</th>\n",
              "      <td>1</td>\n",
              "    </tr>\n",
              "    <tr>\n",
              "      <th>ruim</th>\n",
              "      <td>0</td>\n",
              "    </tr>\n",
              "    <tr>\n",
              "      <th>meia boca</th>\n",
              "      <td>2</td>\n",
              "    </tr>\n",
              "    <tr>\n",
              "      <th>aceitável</th>\n",
              "      <td>1</td>\n",
              "    </tr>\n",
              "    <tr>\n",
              "      <th>bom</th>\n",
              "      <td>1</td>\n",
              "    </tr>\n",
              "  </tbody>\n",
              "</table>\n",
              "</div><br><label><b>dtype:</b> int64</label>"
            ]
          },
          "metadata": {},
          "execution_count": 44
        }
      ]
    },
    {
      "cell_type": "markdown",
      "source": [
        "**Codificação one-hot**\n",
        "\n",
        "Neste exemplo, vamos simular que estamos preparando a variável \"Gênero\" para ser utilizada em um modelo de regressão. Por conta disso, vamos transformar ela em dummy:"
      ],
      "metadata": {
        "id": "MvucXDs-94Sm"
      }
    },
    {
      "cell_type": "code",
      "source": [
        "## Dummies da variável \"Gênero\"\n",
        "df_dummies = pd.get_dummies(df, columns=[\"Gênero\"])\n",
        "print( df_dummies )"
      ],
      "metadata": {
        "id": "u_iVzeta9kgC",
        "colab": {
          "base_uri": "https://localhost:8080/"
        },
        "outputId": "1bf3acb2-d815-4d3c-db13-c80f3484e4fc"
      },
      "execution_count": null,
      "outputs": [
        {
          "output_type": "stream",
          "name": "stdout",
          "text": [
            "      Nome  Notas      Menção  Gênero_Feminino  Gênero_Masculino\n",
            "0      Ana    9.5         bom             True             False\n",
            "1    Bruno    5.3   meia boca            False              True\n",
            "2   Carlos    0.1  muito ruim            False              True\n",
            "3    Diana    6.1   meia boca             True             False\n",
            "4  Eduardo    7.7   aceitável            False              True\n"
          ]
        }
      ]
    },
    {
      "cell_type": "markdown",
      "source": [
        "### Exercício 2\n",
        "\n",
        "Considere o seguinte código que construi um dataframe representando vendas de um loja de eletrônicos:\n",
        "\n",
        "```python\n",
        "import pandas as pd\n",
        "import numpy as np\n",
        "\n",
        "# Criando um DataFrame de exemplo\n",
        "dados = {\n",
        "    \"Produto\": [\"Notebook\", \"Smartphone\", \"Tablet\", \"Notebook\", \"Smartphone\", \"Tablet\", \"Notebook\", \"Smartphone\", \"Tablet\", \"Notebook\"],\n",
        "    \"Loja\": [\"Loja A\", \"Loja B\", \"Loja C\", \"Loja A\", \"Loja B\", \"Loja C\", \"Loja A\", \"Loja B\", \"Loja C\", \"Loja A\"],\n",
        "    \"Vendas\": [1500, 2000, 1000, 1800, 2200, 1200, 1700, 2100, 1300, 1600],\n",
        "    \"Ano\": [2023, 2023, 2023, 2023, 2023, 2023, 2023, 2023, 2023, 2023],\n",
        "    \"Categoria\": [\"Eletrônicos\", \"Eletrônicos\", \"Eletrônicos\", \"Eletrônicos\", \"Eletrônicos\", \"Eletrônicos\", \"Eletrônicos\", \"Eletrônicos\", \"Eletrônicos\", \"Eletrônicos\"],\n",
        "}\n",
        "\n",
        "df = pd.DataFrame(dados)\n",
        "\n",
        "print(\"Conjunto de Dados de Vendas:\")\n",
        "print(df)\n",
        "\n",
        "```\n",
        "\n",
        "Então para o objeto `serie`:\n",
        "\n",
        "1. Converta as colunas \"Loja\" e \"Produto\" para categóricas.\n",
        "\n",
        "2. Faça a coluna \"Produto\" ter a seguinte ordem: \"Tablet\", \"Smartphone\", \"Notebook\".\n",
        "\n",
        "3. Calcule a quantidade de ocorrências de cada nível da coluna \"Loja\" usando `value_counts()`.\n",
        "\n",
        "4. Crie uma nova coluna categórica ordinal chamada `Categoria_Vendas`, onde será categorizado para \"Alto\", \"Médio\" ou \"Baixo\", com base nos seguintes critérios:\n",
        "  * \"Alto\": Vendas > 2000\n",
        "  * \"Médio\": 1500 <= Vendas <= 2000\n",
        "  * \"Baixo\": Vendas < 1500.\n",
        "\n",
        "5. Transforme em dummies as variáveis `Produto` e  `Categoria_Vendas`.    "
      ],
      "metadata": {
        "id": "Haw0r4IX_jRu"
      }
    },
    {
      "cell_type": "code",
      "source": [
        "import pandas as pd\n",
        "import numpy as np\n",
        "\n",
        "# Criando um DataFrame de exemplo\n",
        "dados = {\n",
        "    \"Produto\": [\"Notebook\", \"Smartphone\", \"Tablet\", \"Notebook\", \"Smartphone\", \"Tablet\", \"Notebook\", \"Smartphone\", \"Tablet\", \"Notebook\"],\n",
        "    \"Loja\": [\"Loja A\", \"Loja B\", \"Loja C\", \"Loja A\", \"Loja B\", \"Loja C\", \"Loja A\", \"Loja B\", \"Loja C\", \"Loja A\"],\n",
        "    \"Vendas\": [1500, 2000, 1000, 1800, 2200, 1200, 1700, 2100, 1300, 1600],\n",
        "    \"Ano\": [2023, 2023, 2023, 2023, 2023, 2023, 2023, 2023, 2023, 2023],\n",
        "    \"Categoria\": [\"Eletrônicos\", \"Eletrônicos\", \"Eletrônicos\", \"Eletrônicos\", \"Eletrônicos\", \"Eletrônicos\", \"Eletrônicos\", \"Eletrônicos\", \"Eletrônicos\", \"Eletrônicos\"],\n",
        "}\n",
        "\n",
        "df = pd.DataFrame(dados)\n",
        "\n",
        "print(\"Conjunto de Dados de Vendas:\")\n",
        "print(df)"
      ],
      "metadata": {
        "colab": {
          "base_uri": "https://localhost:8080/"
        },
        "id": "cexyHYWT-kGZ",
        "outputId": "f46466e6-d947-4329-b153-8013e81a49f8"
      },
      "execution_count": null,
      "outputs": [
        {
          "output_type": "stream",
          "name": "stdout",
          "text": [
            "Conjunto de Dados de Vendas:\n",
            "      Produto    Loja  Vendas   Ano    Categoria\n",
            "0    Notebook  Loja A    1500  2023  Eletrônicos\n",
            "1  Smartphone  Loja B    2000  2023  Eletrônicos\n",
            "2      Tablet  Loja C    1000  2023  Eletrônicos\n",
            "3    Notebook  Loja A    1800  2023  Eletrônicos\n",
            "4  Smartphone  Loja B    2200  2023  Eletrônicos\n",
            "5      Tablet  Loja C    1200  2023  Eletrônicos\n",
            "6    Notebook  Loja A    1700  2023  Eletrônicos\n",
            "7  Smartphone  Loja B    2100  2023  Eletrônicos\n",
            "8      Tablet  Loja C    1300  2023  Eletrônicos\n",
            "9    Notebook  Loja A    1600  2023  Eletrônicos\n"
          ]
        }
      ]
    },
    {
      "cell_type": "code",
      "source": [
        "# 1 Converta as colunas \"Loja\" e \"Produto\" para categóricas.\n",
        "df['Loja'] = df['Loja'].astype('category')\n",
        "df['Produto'] = df['Produto'].astype('category')\n",
        "\n",
        "print(df[['Loja','Produto']].info()) # visualizando os resultados\n",
        "\n",
        "# 2 Faça a coluna \"Produto\" ter a seguinte ordem: \"Tablet\", \"Smartphone\", \"Notebook\".\n",
        "df['Produto'] = df.Produto.cat.set_categories(['Tablet', 'Smartphone','Notebook'], ordered = True)\n",
        "\n",
        "# 3 Calcule a quantidade de ocorrências de cada nível da coluna \"Loja\" usando value_counts().\n",
        "print('-'*30)\n",
        "print('3 - ')\n",
        "print(df['Loja'].value_counts())\n",
        "print('-'*30)\n",
        "\n",
        "# 4 Crie uma nova coluna categórica ordinal chamada Categoria_Vendas, onde será categorizado para \"Alto\", \"Médio\" ou \"Baixo\", com base nos seguintes critérios:\n",
        "\n",
        "# \"Alto\": Vendas > 2000\n",
        "# \"Médio\": 1500 <= Vendas <= 2000\n",
        "# \"Baixo\": Vendas < 1500.\n",
        "\n",
        "# Aplicando a função .cut para criar a coluna menção\n",
        "cortes = [0, 1500, 2000, 20000]\n",
        "classes = [\"Baixo\",\"Médio\",\"Alto\"]\n",
        "df['Categoria_Vendas'] = pd.cut( df['Vendas'], bins=cortes, labels=classes )\n",
        "print(df)\n",
        "print('-'*30)\n",
        "\n",
        "# 5 Transforme em dummies as variáveis Produto e  Categoria_Vendas.\n",
        "df_dummies = pd.get_dummies(df, columns=['Produto','Categoria_Vendas'])\n",
        "print(df_dummies)"
      ],
      "metadata": {
        "colab": {
          "base_uri": "https://localhost:8080/"
        },
        "id": "XfQcRzh1-nF3",
        "outputId": "2a6e3e03-9a37-490f-ff84-1ac404286581"
      },
      "execution_count": null,
      "outputs": [
        {
          "output_type": "stream",
          "name": "stdout",
          "text": [
            "<class 'pandas.core.frame.DataFrame'>\n",
            "RangeIndex: 10 entries, 0 to 9\n",
            "Data columns (total 2 columns):\n",
            " #   Column   Non-Null Count  Dtype   \n",
            "---  ------   --------------  -----   \n",
            " 0   Loja     10 non-null     category\n",
            " 1   Produto  10 non-null     category\n",
            "dtypes: category(2)\n",
            "memory usage: 416.0 bytes\n",
            "None\n",
            "------------------------------\n",
            "3 - \n",
            "Loja\n",
            "Loja A    4\n",
            "Loja B    3\n",
            "Loja C    3\n",
            "Name: count, dtype: int64\n",
            "------------------------------\n",
            "      Produto    Loja  Vendas   Ano    Categoria Categoria_Vendas\n",
            "0    Notebook  Loja A    1500  2023  Eletrônicos            Baixo\n",
            "1  Smartphone  Loja B    2000  2023  Eletrônicos            Médio\n",
            "2      Tablet  Loja C    1000  2023  Eletrônicos            Baixo\n",
            "3    Notebook  Loja A    1800  2023  Eletrônicos            Médio\n",
            "4  Smartphone  Loja B    2200  2023  Eletrônicos             Alto\n",
            "5      Tablet  Loja C    1200  2023  Eletrônicos            Baixo\n",
            "6    Notebook  Loja A    1700  2023  Eletrônicos            Médio\n",
            "7  Smartphone  Loja B    2100  2023  Eletrônicos             Alto\n",
            "8      Tablet  Loja C    1300  2023  Eletrônicos            Baixo\n",
            "9    Notebook  Loja A    1600  2023  Eletrônicos            Médio\n",
            "------------------------------\n",
            "     Loja  Vendas   Ano    Categoria  Produto_Tablet  Produto_Smartphone  \\\n",
            "0  Loja A    1500  2023  Eletrônicos           False               False   \n",
            "1  Loja B    2000  2023  Eletrônicos           False                True   \n",
            "2  Loja C    1000  2023  Eletrônicos            True               False   \n",
            "3  Loja A    1800  2023  Eletrônicos           False               False   \n",
            "4  Loja B    2200  2023  Eletrônicos           False                True   \n",
            "5  Loja C    1200  2023  Eletrônicos            True               False   \n",
            "6  Loja A    1700  2023  Eletrônicos           False               False   \n",
            "7  Loja B    2100  2023  Eletrônicos           False                True   \n",
            "8  Loja C    1300  2023  Eletrônicos            True               False   \n",
            "9  Loja A    1600  2023  Eletrônicos           False               False   \n",
            "\n",
            "   Produto_Notebook  Categoria_Vendas_Baixo  Categoria_Vendas_Médio  \\\n",
            "0              True                    True                   False   \n",
            "1             False                   False                    True   \n",
            "2             False                    True                   False   \n",
            "3              True                   False                    True   \n",
            "4             False                   False                   False   \n",
            "5             False                    True                   False   \n",
            "6              True                   False                    True   \n",
            "7             False                   False                   False   \n",
            "8             False                    True                   False   \n",
            "9              True                   False                    True   \n",
            "\n",
            "   Categoria_Vendas_Alto  \n",
            "0                  False  \n",
            "1                  False  \n",
            "2                  False  \n",
            "3                  False  \n",
            "4                   True  \n",
            "5                  False  \n",
            "6                  False  \n",
            "7                   True  \n",
            "8                  False  \n",
            "9                  False  \n"
          ]
        }
      ]
    },
    {
      "cell_type": "markdown",
      "source": [
        "## Importando e exportando dados"
      ],
      "metadata": {
        "id": "g7hv1IbvU66m"
      }
    },
    {
      "cell_type": "markdown",
      "source": [
        "### Valores separados por vírgula (CSV)"
      ],
      "metadata": {
        "id": "nh5jmihRU_zW"
      }
    },
    {
      "cell_type": "markdown",
      "source": [
        "Para escrever um arquivo CSV (*valores separados por vírgula*) use `DataFrame.to_csv()`:"
      ],
      "metadata": {
        "id": "ZyV_WSno-P3v"
      }
    },
    {
      "cell_type": "code",
      "source": [
        "import pandas as pd\n",
        "import numpy as np\n",
        "\n",
        "df = pd.DataFrame(np.random.randint(0, 5, (10, 5)))\n",
        "df.to_csv(\"foo.csv\")"
      ],
      "metadata": {
        "id": "dhne78MJ_FIQ"
      },
      "execution_count": null,
      "outputs": []
    },
    {
      "cell_type": "markdown",
      "source": [
        "* utilize `sep=\";\"` para separar por ponto e vírgula.\n",
        "* `encoding=\"utf-8-sig\"` pode ser útil para compatibilidade com Excel (Windows)."
      ],
      "metadata": {
        "id": "1S2D7YJU2Sxf"
      }
    },
    {
      "cell_type": "markdown",
      "source": [
        "Para ler o arquivo CSV use `pd.read_csv()`:"
      ],
      "metadata": {
        "id": "Gx2VNrdJ_Gkf"
      }
    },
    {
      "cell_type": "code",
      "source": [
        "pd.read_csv(\"foo.csv\")"
      ],
      "metadata": {
        "id": "xIvflSzT_ZSo",
        "colab": {
          "base_uri": "https://localhost:8080/",
          "height": 363
        },
        "outputId": "eb65b874-3a28-46df-cd5c-d87a6d0e437b"
      },
      "execution_count": null,
      "outputs": [
        {
          "output_type": "execute_result",
          "data": {
            "text/plain": [
              "   Unnamed: 0  0  1  2  3  4\n",
              "0           0  1  2  3  4  3\n",
              "1           1  0  1  2  1  2\n",
              "2           2  2  3  4  0  2\n",
              "3           3  0  0  0  4  1\n",
              "4           4  0  3  3  0  0\n",
              "5           5  0  1  0  1  4\n",
              "6           6  2  2  0  0  4\n",
              "7           7  1  3  2  1  1\n",
              "8           8  1  4  0  3  0\n",
              "9           9  2  3  3  0  1"
            ],
            "text/html": [
              "\n",
              "  <div id=\"df-744fc037-898a-4a7f-afa6-20b0d9caf506\" class=\"colab-df-container\">\n",
              "    <div>\n",
              "<style scoped>\n",
              "    .dataframe tbody tr th:only-of-type {\n",
              "        vertical-align: middle;\n",
              "    }\n",
              "\n",
              "    .dataframe tbody tr th {\n",
              "        vertical-align: top;\n",
              "    }\n",
              "\n",
              "    .dataframe thead th {\n",
              "        text-align: right;\n",
              "    }\n",
              "</style>\n",
              "<table border=\"1\" class=\"dataframe\">\n",
              "  <thead>\n",
              "    <tr style=\"text-align: right;\">\n",
              "      <th></th>\n",
              "      <th>Unnamed: 0</th>\n",
              "      <th>0</th>\n",
              "      <th>1</th>\n",
              "      <th>2</th>\n",
              "      <th>3</th>\n",
              "      <th>4</th>\n",
              "    </tr>\n",
              "  </thead>\n",
              "  <tbody>\n",
              "    <tr>\n",
              "      <th>0</th>\n",
              "      <td>0</td>\n",
              "      <td>1</td>\n",
              "      <td>2</td>\n",
              "      <td>3</td>\n",
              "      <td>4</td>\n",
              "      <td>3</td>\n",
              "    </tr>\n",
              "    <tr>\n",
              "      <th>1</th>\n",
              "      <td>1</td>\n",
              "      <td>0</td>\n",
              "      <td>1</td>\n",
              "      <td>2</td>\n",
              "      <td>1</td>\n",
              "      <td>2</td>\n",
              "    </tr>\n",
              "    <tr>\n",
              "      <th>2</th>\n",
              "      <td>2</td>\n",
              "      <td>2</td>\n",
              "      <td>3</td>\n",
              "      <td>4</td>\n",
              "      <td>0</td>\n",
              "      <td>2</td>\n",
              "    </tr>\n",
              "    <tr>\n",
              "      <th>3</th>\n",
              "      <td>3</td>\n",
              "      <td>0</td>\n",
              "      <td>0</td>\n",
              "      <td>0</td>\n",
              "      <td>4</td>\n",
              "      <td>1</td>\n",
              "    </tr>\n",
              "    <tr>\n",
              "      <th>4</th>\n",
              "      <td>4</td>\n",
              "      <td>0</td>\n",
              "      <td>3</td>\n",
              "      <td>3</td>\n",
              "      <td>0</td>\n",
              "      <td>0</td>\n",
              "    </tr>\n",
              "    <tr>\n",
              "      <th>5</th>\n",
              "      <td>5</td>\n",
              "      <td>0</td>\n",
              "      <td>1</td>\n",
              "      <td>0</td>\n",
              "      <td>1</td>\n",
              "      <td>4</td>\n",
              "    </tr>\n",
              "    <tr>\n",
              "      <th>6</th>\n",
              "      <td>6</td>\n",
              "      <td>2</td>\n",
              "      <td>2</td>\n",
              "      <td>0</td>\n",
              "      <td>0</td>\n",
              "      <td>4</td>\n",
              "    </tr>\n",
              "    <tr>\n",
              "      <th>7</th>\n",
              "      <td>7</td>\n",
              "      <td>1</td>\n",
              "      <td>3</td>\n",
              "      <td>2</td>\n",
              "      <td>1</td>\n",
              "      <td>1</td>\n",
              "    </tr>\n",
              "    <tr>\n",
              "      <th>8</th>\n",
              "      <td>8</td>\n",
              "      <td>1</td>\n",
              "      <td>4</td>\n",
              "      <td>0</td>\n",
              "      <td>3</td>\n",
              "      <td>0</td>\n",
              "    </tr>\n",
              "    <tr>\n",
              "      <th>9</th>\n",
              "      <td>9</td>\n",
              "      <td>2</td>\n",
              "      <td>3</td>\n",
              "      <td>3</td>\n",
              "      <td>0</td>\n",
              "      <td>1</td>\n",
              "    </tr>\n",
              "  </tbody>\n",
              "</table>\n",
              "</div>\n",
              "    <div class=\"colab-df-buttons\">\n",
              "\n",
              "  <div class=\"colab-df-container\">\n",
              "    <button class=\"colab-df-convert\" onclick=\"convertToInteractive('df-744fc037-898a-4a7f-afa6-20b0d9caf506')\"\n",
              "            title=\"Convert this dataframe to an interactive table.\"\n",
              "            style=\"display:none;\">\n",
              "\n",
              "  <svg xmlns=\"http://www.w3.org/2000/svg\" height=\"24px\" viewBox=\"0 -960 960 960\">\n",
              "    <path d=\"M120-120v-720h720v720H120Zm60-500h600v-160H180v160Zm220 220h160v-160H400v160Zm0 220h160v-160H400v160ZM180-400h160v-160H180v160Zm440 0h160v-160H620v160ZM180-180h160v-160H180v160Zm440 0h160v-160H620v160Z\"/>\n",
              "  </svg>\n",
              "    </button>\n",
              "\n",
              "  <style>\n",
              "    .colab-df-container {\n",
              "      display:flex;\n",
              "      gap: 12px;\n",
              "    }\n",
              "\n",
              "    .colab-df-convert {\n",
              "      background-color: #E8F0FE;\n",
              "      border: none;\n",
              "      border-radius: 50%;\n",
              "      cursor: pointer;\n",
              "      display: none;\n",
              "      fill: #1967D2;\n",
              "      height: 32px;\n",
              "      padding: 0 0 0 0;\n",
              "      width: 32px;\n",
              "    }\n",
              "\n",
              "    .colab-df-convert:hover {\n",
              "      background-color: #E2EBFA;\n",
              "      box-shadow: 0px 1px 2px rgba(60, 64, 67, 0.3), 0px 1px 3px 1px rgba(60, 64, 67, 0.15);\n",
              "      fill: #174EA6;\n",
              "    }\n",
              "\n",
              "    .colab-df-buttons div {\n",
              "      margin-bottom: 4px;\n",
              "    }\n",
              "\n",
              "    [theme=dark] .colab-df-convert {\n",
              "      background-color: #3B4455;\n",
              "      fill: #D2E3FC;\n",
              "    }\n",
              "\n",
              "    [theme=dark] .colab-df-convert:hover {\n",
              "      background-color: #434B5C;\n",
              "      box-shadow: 0px 1px 3px 1px rgba(0, 0, 0, 0.15);\n",
              "      filter: drop-shadow(0px 1px 2px rgba(0, 0, 0, 0.3));\n",
              "      fill: #FFFFFF;\n",
              "    }\n",
              "  </style>\n",
              "\n",
              "    <script>\n",
              "      const buttonEl =\n",
              "        document.querySelector('#df-744fc037-898a-4a7f-afa6-20b0d9caf506 button.colab-df-convert');\n",
              "      buttonEl.style.display =\n",
              "        google.colab.kernel.accessAllowed ? 'block' : 'none';\n",
              "\n",
              "      async function convertToInteractive(key) {\n",
              "        const element = document.querySelector('#df-744fc037-898a-4a7f-afa6-20b0d9caf506');\n",
              "        const dataTable =\n",
              "          await google.colab.kernel.invokeFunction('convertToInteractive',\n",
              "                                                    [key], {});\n",
              "        if (!dataTable) return;\n",
              "\n",
              "        const docLinkHtml = 'Like what you see? Visit the ' +\n",
              "          '<a target=\"_blank\" href=https://colab.research.google.com/notebooks/data_table.ipynb>data table notebook</a>'\n",
              "          + ' to learn more about interactive tables.';\n",
              "        element.innerHTML = '';\n",
              "        dataTable['output_type'] = 'display_data';\n",
              "        await google.colab.output.renderOutput(dataTable, element);\n",
              "        const docLink = document.createElement('div');\n",
              "        docLink.innerHTML = docLinkHtml;\n",
              "        element.appendChild(docLink);\n",
              "      }\n",
              "    </script>\n",
              "  </div>\n",
              "\n",
              "\n",
              "    <div id=\"df-3ffc4b77-f754-4df1-9b69-020cedc7a70b\">\n",
              "      <button class=\"colab-df-quickchart\" onclick=\"quickchart('df-3ffc4b77-f754-4df1-9b69-020cedc7a70b')\"\n",
              "                title=\"Suggest charts\"\n",
              "                style=\"display:none;\">\n",
              "\n",
              "<svg xmlns=\"http://www.w3.org/2000/svg\" height=\"24px\"viewBox=\"0 0 24 24\"\n",
              "     width=\"24px\">\n",
              "    <g>\n",
              "        <path d=\"M19 3H5c-1.1 0-2 .9-2 2v14c0 1.1.9 2 2 2h14c1.1 0 2-.9 2-2V5c0-1.1-.9-2-2-2zM9 17H7v-7h2v7zm4 0h-2V7h2v10zm4 0h-2v-4h2v4z\"/>\n",
              "    </g>\n",
              "</svg>\n",
              "      </button>\n",
              "\n",
              "<style>\n",
              "  .colab-df-quickchart {\n",
              "      --bg-color: #E8F0FE;\n",
              "      --fill-color: #1967D2;\n",
              "      --hover-bg-color: #E2EBFA;\n",
              "      --hover-fill-color: #174EA6;\n",
              "      --disabled-fill-color: #AAA;\n",
              "      --disabled-bg-color: #DDD;\n",
              "  }\n",
              "\n",
              "  [theme=dark] .colab-df-quickchart {\n",
              "      --bg-color: #3B4455;\n",
              "      --fill-color: #D2E3FC;\n",
              "      --hover-bg-color: #434B5C;\n",
              "      --hover-fill-color: #FFFFFF;\n",
              "      --disabled-bg-color: #3B4455;\n",
              "      --disabled-fill-color: #666;\n",
              "  }\n",
              "\n",
              "  .colab-df-quickchart {\n",
              "    background-color: var(--bg-color);\n",
              "    border: none;\n",
              "    border-radius: 50%;\n",
              "    cursor: pointer;\n",
              "    display: none;\n",
              "    fill: var(--fill-color);\n",
              "    height: 32px;\n",
              "    padding: 0;\n",
              "    width: 32px;\n",
              "  }\n",
              "\n",
              "  .colab-df-quickchart:hover {\n",
              "    background-color: var(--hover-bg-color);\n",
              "    box-shadow: 0 1px 2px rgba(60, 64, 67, 0.3), 0 1px 3px 1px rgba(60, 64, 67, 0.15);\n",
              "    fill: var(--button-hover-fill-color);\n",
              "  }\n",
              "\n",
              "  .colab-df-quickchart-complete:disabled,\n",
              "  .colab-df-quickchart-complete:disabled:hover {\n",
              "    background-color: var(--disabled-bg-color);\n",
              "    fill: var(--disabled-fill-color);\n",
              "    box-shadow: none;\n",
              "  }\n",
              "\n",
              "  .colab-df-spinner {\n",
              "    border: 2px solid var(--fill-color);\n",
              "    border-color: transparent;\n",
              "    border-bottom-color: var(--fill-color);\n",
              "    animation:\n",
              "      spin 1s steps(1) infinite;\n",
              "  }\n",
              "\n",
              "  @keyframes spin {\n",
              "    0% {\n",
              "      border-color: transparent;\n",
              "      border-bottom-color: var(--fill-color);\n",
              "      border-left-color: var(--fill-color);\n",
              "    }\n",
              "    20% {\n",
              "      border-color: transparent;\n",
              "      border-left-color: var(--fill-color);\n",
              "      border-top-color: var(--fill-color);\n",
              "    }\n",
              "    30% {\n",
              "      border-color: transparent;\n",
              "      border-left-color: var(--fill-color);\n",
              "      border-top-color: var(--fill-color);\n",
              "      border-right-color: var(--fill-color);\n",
              "    }\n",
              "    40% {\n",
              "      border-color: transparent;\n",
              "      border-right-color: var(--fill-color);\n",
              "      border-top-color: var(--fill-color);\n",
              "    }\n",
              "    60% {\n",
              "      border-color: transparent;\n",
              "      border-right-color: var(--fill-color);\n",
              "    }\n",
              "    80% {\n",
              "      border-color: transparent;\n",
              "      border-right-color: var(--fill-color);\n",
              "      border-bottom-color: var(--fill-color);\n",
              "    }\n",
              "    90% {\n",
              "      border-color: transparent;\n",
              "      border-bottom-color: var(--fill-color);\n",
              "    }\n",
              "  }\n",
              "</style>\n",
              "\n",
              "      <script>\n",
              "        async function quickchart(key) {\n",
              "          const quickchartButtonEl =\n",
              "            document.querySelector('#' + key + ' button');\n",
              "          quickchartButtonEl.disabled = true;  // To prevent multiple clicks.\n",
              "          quickchartButtonEl.classList.add('colab-df-spinner');\n",
              "          try {\n",
              "            const charts = await google.colab.kernel.invokeFunction(\n",
              "                'suggestCharts', [key], {});\n",
              "          } catch (error) {\n",
              "            console.error('Error during call to suggestCharts:', error);\n",
              "          }\n",
              "          quickchartButtonEl.classList.remove('colab-df-spinner');\n",
              "          quickchartButtonEl.classList.add('colab-df-quickchart-complete');\n",
              "        }\n",
              "        (() => {\n",
              "          let quickchartButtonEl =\n",
              "            document.querySelector('#df-3ffc4b77-f754-4df1-9b69-020cedc7a70b button');\n",
              "          quickchartButtonEl.style.display =\n",
              "            google.colab.kernel.accessAllowed ? 'block' : 'none';\n",
              "        })();\n",
              "      </script>\n",
              "    </div>\n",
              "\n",
              "    </div>\n",
              "  </div>\n"
            ],
            "application/vnd.google.colaboratory.intrinsic+json": {
              "type": "dataframe",
              "summary": "{\n  \"name\": \"pd\",\n  \"rows\": 10,\n  \"fields\": [\n    {\n      \"column\": \"Unnamed: 0\",\n      \"properties\": {\n        \"dtype\": \"number\",\n        \"std\": 3,\n        \"min\": 0,\n        \"max\": 9,\n        \"num_unique_values\": 10,\n        \"samples\": [\n          8,\n          1,\n          5\n        ],\n        \"semantic_type\": \"\",\n        \"description\": \"\"\n      }\n    },\n    {\n      \"column\": \"0\",\n      \"properties\": {\n        \"dtype\": \"number\",\n        \"std\": 0,\n        \"min\": 0,\n        \"max\": 2,\n        \"num_unique_values\": 3,\n        \"samples\": [\n          1,\n          0,\n          2\n        ],\n        \"semantic_type\": \"\",\n        \"description\": \"\"\n      }\n    },\n    {\n      \"column\": \"1\",\n      \"properties\": {\n        \"dtype\": \"number\",\n        \"std\": 1,\n        \"min\": 0,\n        \"max\": 4,\n        \"num_unique_values\": 5,\n        \"samples\": [\n          1,\n          4,\n          3\n        ],\n        \"semantic_type\": \"\",\n        \"description\": \"\"\n      }\n    },\n    {\n      \"column\": \"2\",\n      \"properties\": {\n        \"dtype\": \"number\",\n        \"std\": 1,\n        \"min\": 0,\n        \"max\": 4,\n        \"num_unique_values\": 4,\n        \"samples\": [\n          2,\n          0,\n          3\n        ],\n        \"semantic_type\": \"\",\n        \"description\": \"\"\n      }\n    },\n    {\n      \"column\": \"3\",\n      \"properties\": {\n        \"dtype\": \"number\",\n        \"std\": 1,\n        \"min\": 0,\n        \"max\": 4,\n        \"num_unique_values\": 4,\n        \"samples\": [\n          1,\n          3,\n          4\n        ],\n        \"semantic_type\": \"\",\n        \"description\": \"\"\n      }\n    },\n    {\n      \"column\": \"4\",\n      \"properties\": {\n        \"dtype\": \"number\",\n        \"std\": 1,\n        \"min\": 0,\n        \"max\": 4,\n        \"num_unique_values\": 5,\n        \"samples\": [\n          2,\n          4,\n          1\n        ],\n        \"semantic_type\": \"\",\n        \"description\": \"\"\n      }\n    }\n  ]\n}"
            }
          },
          "metadata": {},
          "execution_count": 49
        }
      ]
    },
    {
      "cell_type": "markdown",
      "source": [
        "No caso de um DataFrame com indices, podemos utilizar os seguintes argumentos da função read:\n",
        "* `index_col=0`: usa a primeira coluna como índice.\n",
        "\n",
        "Se for uma série temporal, então também podemos adicionar:\n",
        "* `parse_dates=True`: converte para datetime.\n",
        "\n",
        "> Desta forma, o Pandas irá entender que a primeira coluna se trata de datas que formam o indice da sua série temporal.\n",
        "\n",
        "Veja o exemplo abaixo:"
      ],
      "metadata": {
        "id": "YClZ0B7i4BcH"
      }
    },
    {
      "cell_type": "code",
      "source": [
        "import pandas as pd\n",
        "import numpy as np\n",
        "\n",
        "# Gerar uma série temporal horaria\n",
        "datas = pd.date_range(\"2023-01-01\", \"2023-01-5\", freq=\"h\")\n",
        "valores = np.random.randint(50, 100, len(datas))\n",
        "serie_temporal = pd.Series(valores, index=datas)\n",
        "\n",
        "df = pd.DataFrame({\n",
        "    \"Produto A\": np.random.randint(50, 100, len(datas)),\n",
        "    \"Produto B\": np.random.randint(60, 120, len(datas)),\n",
        "    \"Produto C\": np.random.randint(30, 90, len(datas)),\n",
        "}, index=datas)\n",
        "\n",
        "## escreve arquivo csv\n",
        "df.to_csv(\"serie_temporal.csv\")\n",
        "\n",
        "## le arquivo\n",
        "df2 = pd.read_csv(\"serie_temporal.csv\", index_col=0, parse_dates=True)\n",
        "\n",
        "print(df2)"
      ],
      "metadata": {
        "colab": {
          "base_uri": "https://localhost:8080/"
        },
        "id": "V8RIgYJr3TaI",
        "outputId": "fd276ef4-2855-4d5a-eb75-3d8789d4e60b"
      },
      "execution_count": null,
      "outputs": [
        {
          "output_type": "stream",
          "name": "stdout",
          "text": [
            "                     Produto A  Produto B  Produto C\n",
            "2023-01-01 00:00:00         75         63         71\n",
            "2023-01-01 01:00:00         55        104         49\n",
            "2023-01-01 02:00:00         63         73         63\n",
            "2023-01-01 03:00:00         79         94         45\n",
            "2023-01-01 04:00:00         57         75         72\n",
            "...                        ...        ...        ...\n",
            "2023-01-04 20:00:00         79         72         43\n",
            "2023-01-04 21:00:00         99         92         56\n",
            "2023-01-04 22:00:00         77         70         61\n",
            "2023-01-04 23:00:00         74        112         42\n",
            "2023-01-05 00:00:00         82         63         57\n",
            "\n",
            "[97 rows x 3 columns]\n"
          ]
        }
      ]
    },
    {
      "cell_type": "markdown",
      "source": [
        "### Excel"
      ],
      "metadata": {
        "id": "v-At6-FxVQFO"
      }
    },
    {
      "cell_type": "markdown",
      "source": [
        "A escrita e leitura de arquivo Excel segue o mesmo formato de argumentos vistos para a função `DataFrame.to_csv()`. A principal diferença é que para Excel podemos apontar a aba de leitura/escrita através do argumento `sheet_name`.\n",
        "\n",
        "Para escrever um arquivo Excel use `DataFrame.to_excel()`:"
      ],
      "metadata": {
        "id": "yXCw_f-0BFou"
      }
    },
    {
      "cell_type": "code",
      "source": [
        "df.to_excel(\"foo.xlsx\", sheet_name=\"Sheet1\")"
      ],
      "metadata": {
        "id": "zpR8CVpRBsUo"
      },
      "execution_count": null,
      "outputs": []
    },
    {
      "cell_type": "markdown",
      "source": [
        "Para ler um arquivo Excel use `pd.read_excel()`:"
      ],
      "metadata": {
        "id": "aPucD9hEBs9f"
      }
    },
    {
      "cell_type": "code",
      "source": [
        "pd.read_excel(\"foo.xlsx\", \"Sheet1\", index_col=None)"
      ],
      "metadata": {
        "id": "9_97oF5-CGQv",
        "colab": {
          "base_uri": "https://localhost:8080/",
          "height": 423
        },
        "outputId": "709e376a-3cc5-42fd-bb9a-139db7877153"
      },
      "execution_count": null,
      "outputs": [
        {
          "output_type": "execute_result",
          "data": {
            "text/plain": [
              "            Unnamed: 0  Produto A  Produto B  Produto C\n",
              "0  2023-01-01 00:00:00         75         63         71\n",
              "1  2023-01-01 01:00:00         55        104         49\n",
              "2  2023-01-01 02:00:00         63         73         63\n",
              "3  2023-01-01 03:00:00         79         94         45\n",
              "4  2023-01-01 04:00:00         57         75         72\n",
              "..                 ...        ...        ...        ...\n",
              "92 2023-01-04 20:00:00         79         72         43\n",
              "93 2023-01-04 21:00:00         99         92         56\n",
              "94 2023-01-04 22:00:00         77         70         61\n",
              "95 2023-01-04 23:00:00         74        112         42\n",
              "96 2023-01-05 00:00:00         82         63         57\n",
              "\n",
              "[97 rows x 4 columns]"
            ],
            "text/html": [
              "\n",
              "  <div id=\"df-f5cad3de-cd93-49bd-a8b1-952f0ec8e43a\" class=\"colab-df-container\">\n",
              "    <div>\n",
              "<style scoped>\n",
              "    .dataframe tbody tr th:only-of-type {\n",
              "        vertical-align: middle;\n",
              "    }\n",
              "\n",
              "    .dataframe tbody tr th {\n",
              "        vertical-align: top;\n",
              "    }\n",
              "\n",
              "    .dataframe thead th {\n",
              "        text-align: right;\n",
              "    }\n",
              "</style>\n",
              "<table border=\"1\" class=\"dataframe\">\n",
              "  <thead>\n",
              "    <tr style=\"text-align: right;\">\n",
              "      <th></th>\n",
              "      <th>Unnamed: 0</th>\n",
              "      <th>Produto A</th>\n",
              "      <th>Produto B</th>\n",
              "      <th>Produto C</th>\n",
              "    </tr>\n",
              "  </thead>\n",
              "  <tbody>\n",
              "    <tr>\n",
              "      <th>0</th>\n",
              "      <td>2023-01-01 00:00:00</td>\n",
              "      <td>75</td>\n",
              "      <td>63</td>\n",
              "      <td>71</td>\n",
              "    </tr>\n",
              "    <tr>\n",
              "      <th>1</th>\n",
              "      <td>2023-01-01 01:00:00</td>\n",
              "      <td>55</td>\n",
              "      <td>104</td>\n",
              "      <td>49</td>\n",
              "    </tr>\n",
              "    <tr>\n",
              "      <th>2</th>\n",
              "      <td>2023-01-01 02:00:00</td>\n",
              "      <td>63</td>\n",
              "      <td>73</td>\n",
              "      <td>63</td>\n",
              "    </tr>\n",
              "    <tr>\n",
              "      <th>3</th>\n",
              "      <td>2023-01-01 03:00:00</td>\n",
              "      <td>79</td>\n",
              "      <td>94</td>\n",
              "      <td>45</td>\n",
              "    </tr>\n",
              "    <tr>\n",
              "      <th>4</th>\n",
              "      <td>2023-01-01 04:00:00</td>\n",
              "      <td>57</td>\n",
              "      <td>75</td>\n",
              "      <td>72</td>\n",
              "    </tr>\n",
              "    <tr>\n",
              "      <th>...</th>\n",
              "      <td>...</td>\n",
              "      <td>...</td>\n",
              "      <td>...</td>\n",
              "      <td>...</td>\n",
              "    </tr>\n",
              "    <tr>\n",
              "      <th>92</th>\n",
              "      <td>2023-01-04 20:00:00</td>\n",
              "      <td>79</td>\n",
              "      <td>72</td>\n",
              "      <td>43</td>\n",
              "    </tr>\n",
              "    <tr>\n",
              "      <th>93</th>\n",
              "      <td>2023-01-04 21:00:00</td>\n",
              "      <td>99</td>\n",
              "      <td>92</td>\n",
              "      <td>56</td>\n",
              "    </tr>\n",
              "    <tr>\n",
              "      <th>94</th>\n",
              "      <td>2023-01-04 22:00:00</td>\n",
              "      <td>77</td>\n",
              "      <td>70</td>\n",
              "      <td>61</td>\n",
              "    </tr>\n",
              "    <tr>\n",
              "      <th>95</th>\n",
              "      <td>2023-01-04 23:00:00</td>\n",
              "      <td>74</td>\n",
              "      <td>112</td>\n",
              "      <td>42</td>\n",
              "    </tr>\n",
              "    <tr>\n",
              "      <th>96</th>\n",
              "      <td>2023-01-05 00:00:00</td>\n",
              "      <td>82</td>\n",
              "      <td>63</td>\n",
              "      <td>57</td>\n",
              "    </tr>\n",
              "  </tbody>\n",
              "</table>\n",
              "<p>97 rows × 4 columns</p>\n",
              "</div>\n",
              "    <div class=\"colab-df-buttons\">\n",
              "\n",
              "  <div class=\"colab-df-container\">\n",
              "    <button class=\"colab-df-convert\" onclick=\"convertToInteractive('df-f5cad3de-cd93-49bd-a8b1-952f0ec8e43a')\"\n",
              "            title=\"Convert this dataframe to an interactive table.\"\n",
              "            style=\"display:none;\">\n",
              "\n",
              "  <svg xmlns=\"http://www.w3.org/2000/svg\" height=\"24px\" viewBox=\"0 -960 960 960\">\n",
              "    <path d=\"M120-120v-720h720v720H120Zm60-500h600v-160H180v160Zm220 220h160v-160H400v160Zm0 220h160v-160H400v160ZM180-400h160v-160H180v160Zm440 0h160v-160H620v160ZM180-180h160v-160H180v160Zm440 0h160v-160H620v160Z\"/>\n",
              "  </svg>\n",
              "    </button>\n",
              "\n",
              "  <style>\n",
              "    .colab-df-container {\n",
              "      display:flex;\n",
              "      gap: 12px;\n",
              "    }\n",
              "\n",
              "    .colab-df-convert {\n",
              "      background-color: #E8F0FE;\n",
              "      border: none;\n",
              "      border-radius: 50%;\n",
              "      cursor: pointer;\n",
              "      display: none;\n",
              "      fill: #1967D2;\n",
              "      height: 32px;\n",
              "      padding: 0 0 0 0;\n",
              "      width: 32px;\n",
              "    }\n",
              "\n",
              "    .colab-df-convert:hover {\n",
              "      background-color: #E2EBFA;\n",
              "      box-shadow: 0px 1px 2px rgba(60, 64, 67, 0.3), 0px 1px 3px 1px rgba(60, 64, 67, 0.15);\n",
              "      fill: #174EA6;\n",
              "    }\n",
              "\n",
              "    .colab-df-buttons div {\n",
              "      margin-bottom: 4px;\n",
              "    }\n",
              "\n",
              "    [theme=dark] .colab-df-convert {\n",
              "      background-color: #3B4455;\n",
              "      fill: #D2E3FC;\n",
              "    }\n",
              "\n",
              "    [theme=dark] .colab-df-convert:hover {\n",
              "      background-color: #434B5C;\n",
              "      box-shadow: 0px 1px 3px 1px rgba(0, 0, 0, 0.15);\n",
              "      filter: drop-shadow(0px 1px 2px rgba(0, 0, 0, 0.3));\n",
              "      fill: #FFFFFF;\n",
              "    }\n",
              "  </style>\n",
              "\n",
              "    <script>\n",
              "      const buttonEl =\n",
              "        document.querySelector('#df-f5cad3de-cd93-49bd-a8b1-952f0ec8e43a button.colab-df-convert');\n",
              "      buttonEl.style.display =\n",
              "        google.colab.kernel.accessAllowed ? 'block' : 'none';\n",
              "\n",
              "      async function convertToInteractive(key) {\n",
              "        const element = document.querySelector('#df-f5cad3de-cd93-49bd-a8b1-952f0ec8e43a');\n",
              "        const dataTable =\n",
              "          await google.colab.kernel.invokeFunction('convertToInteractive',\n",
              "                                                    [key], {});\n",
              "        if (!dataTable) return;\n",
              "\n",
              "        const docLinkHtml = 'Like what you see? Visit the ' +\n",
              "          '<a target=\"_blank\" href=https://colab.research.google.com/notebooks/data_table.ipynb>data table notebook</a>'\n",
              "          + ' to learn more about interactive tables.';\n",
              "        element.innerHTML = '';\n",
              "        dataTable['output_type'] = 'display_data';\n",
              "        await google.colab.output.renderOutput(dataTable, element);\n",
              "        const docLink = document.createElement('div');\n",
              "        docLink.innerHTML = docLinkHtml;\n",
              "        element.appendChild(docLink);\n",
              "      }\n",
              "    </script>\n",
              "  </div>\n",
              "\n",
              "\n",
              "    <div id=\"df-b0aa0ed4-b898-4e35-a0cb-df9d9ccca8a9\">\n",
              "      <button class=\"colab-df-quickchart\" onclick=\"quickchart('df-b0aa0ed4-b898-4e35-a0cb-df9d9ccca8a9')\"\n",
              "                title=\"Suggest charts\"\n",
              "                style=\"display:none;\">\n",
              "\n",
              "<svg xmlns=\"http://www.w3.org/2000/svg\" height=\"24px\"viewBox=\"0 0 24 24\"\n",
              "     width=\"24px\">\n",
              "    <g>\n",
              "        <path d=\"M19 3H5c-1.1 0-2 .9-2 2v14c0 1.1.9 2 2 2h14c1.1 0 2-.9 2-2V5c0-1.1-.9-2-2-2zM9 17H7v-7h2v7zm4 0h-2V7h2v10zm4 0h-2v-4h2v4z\"/>\n",
              "    </g>\n",
              "</svg>\n",
              "      </button>\n",
              "\n",
              "<style>\n",
              "  .colab-df-quickchart {\n",
              "      --bg-color: #E8F0FE;\n",
              "      --fill-color: #1967D2;\n",
              "      --hover-bg-color: #E2EBFA;\n",
              "      --hover-fill-color: #174EA6;\n",
              "      --disabled-fill-color: #AAA;\n",
              "      --disabled-bg-color: #DDD;\n",
              "  }\n",
              "\n",
              "  [theme=dark] .colab-df-quickchart {\n",
              "      --bg-color: #3B4455;\n",
              "      --fill-color: #D2E3FC;\n",
              "      --hover-bg-color: #434B5C;\n",
              "      --hover-fill-color: #FFFFFF;\n",
              "      --disabled-bg-color: #3B4455;\n",
              "      --disabled-fill-color: #666;\n",
              "  }\n",
              "\n",
              "  .colab-df-quickchart {\n",
              "    background-color: var(--bg-color);\n",
              "    border: none;\n",
              "    border-radius: 50%;\n",
              "    cursor: pointer;\n",
              "    display: none;\n",
              "    fill: var(--fill-color);\n",
              "    height: 32px;\n",
              "    padding: 0;\n",
              "    width: 32px;\n",
              "  }\n",
              "\n",
              "  .colab-df-quickchart:hover {\n",
              "    background-color: var(--hover-bg-color);\n",
              "    box-shadow: 0 1px 2px rgba(60, 64, 67, 0.3), 0 1px 3px 1px rgba(60, 64, 67, 0.15);\n",
              "    fill: var(--button-hover-fill-color);\n",
              "  }\n",
              "\n",
              "  .colab-df-quickchart-complete:disabled,\n",
              "  .colab-df-quickchart-complete:disabled:hover {\n",
              "    background-color: var(--disabled-bg-color);\n",
              "    fill: var(--disabled-fill-color);\n",
              "    box-shadow: none;\n",
              "  }\n",
              "\n",
              "  .colab-df-spinner {\n",
              "    border: 2px solid var(--fill-color);\n",
              "    border-color: transparent;\n",
              "    border-bottom-color: var(--fill-color);\n",
              "    animation:\n",
              "      spin 1s steps(1) infinite;\n",
              "  }\n",
              "\n",
              "  @keyframes spin {\n",
              "    0% {\n",
              "      border-color: transparent;\n",
              "      border-bottom-color: var(--fill-color);\n",
              "      border-left-color: var(--fill-color);\n",
              "    }\n",
              "    20% {\n",
              "      border-color: transparent;\n",
              "      border-left-color: var(--fill-color);\n",
              "      border-top-color: var(--fill-color);\n",
              "    }\n",
              "    30% {\n",
              "      border-color: transparent;\n",
              "      border-left-color: var(--fill-color);\n",
              "      border-top-color: var(--fill-color);\n",
              "      border-right-color: var(--fill-color);\n",
              "    }\n",
              "    40% {\n",
              "      border-color: transparent;\n",
              "      border-right-color: var(--fill-color);\n",
              "      border-top-color: var(--fill-color);\n",
              "    }\n",
              "    60% {\n",
              "      border-color: transparent;\n",
              "      border-right-color: var(--fill-color);\n",
              "    }\n",
              "    80% {\n",
              "      border-color: transparent;\n",
              "      border-right-color: var(--fill-color);\n",
              "      border-bottom-color: var(--fill-color);\n",
              "    }\n",
              "    90% {\n",
              "      border-color: transparent;\n",
              "      border-bottom-color: var(--fill-color);\n",
              "    }\n",
              "  }\n",
              "</style>\n",
              "\n",
              "      <script>\n",
              "        async function quickchart(key) {\n",
              "          const quickchartButtonEl =\n",
              "            document.querySelector('#' + key + ' button');\n",
              "          quickchartButtonEl.disabled = true;  // To prevent multiple clicks.\n",
              "          quickchartButtonEl.classList.add('colab-df-spinner');\n",
              "          try {\n",
              "            const charts = await google.colab.kernel.invokeFunction(\n",
              "                'suggestCharts', [key], {});\n",
              "          } catch (error) {\n",
              "            console.error('Error during call to suggestCharts:', error);\n",
              "          }\n",
              "          quickchartButtonEl.classList.remove('colab-df-spinner');\n",
              "          quickchartButtonEl.classList.add('colab-df-quickchart-complete');\n",
              "        }\n",
              "        (() => {\n",
              "          let quickchartButtonEl =\n",
              "            document.querySelector('#df-b0aa0ed4-b898-4e35-a0cb-df9d9ccca8a9 button');\n",
              "          quickchartButtonEl.style.display =\n",
              "            google.colab.kernel.accessAllowed ? 'block' : 'none';\n",
              "        })();\n",
              "      </script>\n",
              "    </div>\n",
              "\n",
              "    </div>\n",
              "  </div>\n"
            ],
            "application/vnd.google.colaboratory.intrinsic+json": {
              "type": "dataframe",
              "summary": "{\n  \"name\": \"pd\",\n  \"rows\": 97,\n  \"fields\": [\n    {\n      \"column\": \"Unnamed: 0\",\n      \"properties\": {\n        \"dtype\": \"date\",\n        \"min\": \"2023-01-01 00:00:00\",\n        \"max\": \"2023-01-05 00:00:00\",\n        \"num_unique_values\": 97,\n        \"samples\": [\n          \"2023-01-03 14:00:00\",\n          \"2023-01-02 16:00:00\",\n          \"2023-01-04 21:00:00\"\n        ],\n        \"semantic_type\": \"\",\n        \"description\": \"\"\n      }\n    },\n    {\n      \"column\": \"Produto A\",\n      \"properties\": {\n        \"dtype\": \"number\",\n        \"std\": 13,\n        \"min\": 50,\n        \"max\": 99,\n        \"num_unique_values\": 44,\n        \"samples\": [\n          67,\n          90,\n          61\n        ],\n        \"semantic_type\": \"\",\n        \"description\": \"\"\n      }\n    },\n    {\n      \"column\": \"Produto B\",\n      \"properties\": {\n        \"dtype\": \"number\",\n        \"std\": 16,\n        \"min\": 60,\n        \"max\": 119,\n        \"num_unique_values\": 47,\n        \"samples\": [\n          62,\n          111,\n          85\n        ],\n        \"semantic_type\": \"\",\n        \"description\": \"\"\n      }\n    },\n    {\n      \"column\": \"Produto C\",\n      \"properties\": {\n        \"dtype\": \"number\",\n        \"std\": 17,\n        \"min\": 30,\n        \"max\": 89,\n        \"num_unique_values\": 53,\n        \"samples\": [\n          47,\n          65,\n          32\n        ],\n        \"semantic_type\": \"\",\n        \"description\": \"\"\n      }\n    }\n  ]\n}"
            }
          },
          "metadata": {},
          "execution_count": 52
        }
      ]
    }
  ]
}